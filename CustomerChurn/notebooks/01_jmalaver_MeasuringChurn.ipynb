{
 "cells": [
  {
   "cell_type": "markdown",
   "metadata": {},
   "source": [
    "# Measuring Churn"
   ]
  },
  {
   "cell_type": "markdown",
   "metadata": {},
   "source": [
    "### Data Import and Packages"
   ]
  },
  {
   "cell_type": "code",
   "execution_count": 6,
   "metadata": {},
   "outputs": [],
   "source": [
    "import numpy as np\n",
    "import pandas as pd\n",
    "import matplotlib.pyplot as plt\n",
    "import seaborn as sns\n",
    "%matplotlib inline\n",
    "sns.set()"
   ]
  },
  {
   "cell_type": "code",
   "execution_count": 5,
   "metadata": {},
   "outputs": [
    {
     "name": "stdout",
     "output_type": "stream",
     "text": [
      "<class 'pandas.core.frame.DataFrame'>\n",
      "RangeIndex: 10127 entries, 0 to 10126\n",
      "Data columns (total 21 columns):\n",
      " #   Column                    Non-Null Count  Dtype  \n",
      "---  ------                    --------------  -----  \n",
      " 0   CLIENTNUM                 10127 non-null  int64  \n",
      " 1   Attrition_Flag            10127 non-null  object \n",
      " 2   Customer_Age              10127 non-null  int64  \n",
      " 3   Gender                    10127 non-null  object \n",
      " 4   Dependent_count           10127 non-null  int64  \n",
      " 5   Education_Level           10127 non-null  object \n",
      " 6   Marital_Status            10127 non-null  object \n",
      " 7   Income_Category           10127 non-null  object \n",
      " 8   Card_Category             10127 non-null  object \n",
      " 9   Months_on_book            10127 non-null  int64  \n",
      " 10  Total_Relationship_Count  10127 non-null  int64  \n",
      " 11  Months_Inactive_12_mon    10127 non-null  int64  \n",
      " 12  Contacts_Count_12_mon     10127 non-null  int64  \n",
      " 13  Credit_Limit              10127 non-null  float64\n",
      " 14  Total_Revolving_Bal       10127 non-null  int64  \n",
      " 15  Avg_Open_To_Buy           10127 non-null  float64\n",
      " 16  Total_Amt_Chng_Q4_Q1      10127 non-null  float64\n",
      " 17  Total_Trans_Amt           10127 non-null  int64  \n",
      " 18  Total_Trans_Ct            10127 non-null  int64  \n",
      " 19  Total_Ct_Chng_Q4_Q1       10127 non-null  float64\n",
      " 20  Avg_Utilization_Ratio     10127 non-null  float64\n",
      "dtypes: float64(5), int64(10), object(6)\n",
      "memory usage: 1.6+ MB\n"
     ]
    }
   ],
   "source": [
    "# importing raw csv file as pandas dataframe\n",
    "df = pd.read_csv('../data/raw/BankChurners.csv')\n",
    "df.info()"
   ]
  },
  {
   "cell_type": "markdown",
   "metadata": {},
   "source": [
    "## Churn Rate"
   ]
  },
  {
   "cell_type": "markdown",
   "metadata": {},
   "source": [
    "### Calculating churn rate"
   ]
  },
  {
   "cell_type": "markdown",
   "metadata": {},
   "source": [
    "Customers who no longer use the service are considered churners. At a point in time prior to the time at which measurements were taken in the data, a number of customers equal to the sumber of rows $10127$ signed up for the service. Once the data was generated, a portion of those customers were retained, and another portion churned. The *churn rate* is thus the proportion of total customers who have left the service:  \n",
    "\n",
    "$$ChurnRate=\\frac{\\#ChurnedCustomers}{\\#StartingCustomers}$$\n",
    "\n",
    "The data tells us that some customers have churned, so we can look at these proportions to calculate the churn rate."
   ]
  },
  {
   "cell_type": "code",
   "execution_count": 25,
   "metadata": {},
   "outputs": [
    {
     "data": {
      "image/png": "[encoded data removed]",
      "text/plain": [
       "<Figure size 360x360 with 1 Axes>"
      ]
     },
     "metadata": {},
     "output_type": "display_data"
    }
   ],
   "source": [
    "# plotting values of Attrition_Flag column\n",
    "g = sns.catplot(data=df, kind='count', x='Attrition_Flag')\n",
    "g.set_axis_labels('Atrrition Flag')\n",
    "plt.show()"
   ]
  },
  {
   "cell_type": "code",
   "execution_count": 14,
   "metadata": {},
   "outputs": [
    {
     "name": "stdout",
     "output_type": "stream",
     "text": [
      "# Churned Customers = 1627\n",
      "# Starting Customers = 10127\n",
      "Churn Rate = 0.161%\n"
     ]
    }
   ],
   "source": [
    "# number of churned customers\n",
    "CC = df[df['Attrition_Flag'] =='Attrited Customer'].shape[0]\n",
    "print('# Churned Customers = {}'.format(CC))\n",
    "\n",
    "# number of starting (total) customers\n",
    "SC = df.shape[0]\n",
    "print('# Starting Customers = {}'.format(SC))\n",
    "\n",
    "#churn rate\n",
    "CR = CC/SC\n",
    "print('Churn Rate = {}%'.format(round(CR, 3)))"
   ]
  },
  {
   "cell_type": "markdown",
   "metadata": {},
   "source": [
    "Plugging in these numbers to the churn rate formula:  \n",
    "\n",
    "$$ChurnRate=\\frac{1627}{10127}=0.161\\%$$\n",
    "\n",
    "Since the data does not include date variables, we are making an assumption that all accounts included in the data were new users at around the same time. This is necessary for calculating churn, because the churn rate should not include newly acquired accounts. The churn rate is exclusively focused on the set of customers that were acquired at the same time (or at least within a reasonably small time window). We can also calculate the retention rate by looking at the proportion of existing customers over total customers:\n",
    "\n",
    "$$RetentionRate=\\frac{\\#ExistingCustomers}{\\#StartingCustomers}$$"
   ]
  },
  {
   "cell_type": "code",
   "execution_count": 16,
   "metadata": {},
   "outputs": [
    {
     "name": "stdout",
     "output_type": "stream",
     "text": [
      "# Existing Customers = 8500\n",
      "# Starting Customers = 10127\n",
      "Retention Rate = 0.839%\n"
     ]
    }
   ],
   "source": [
    "# number of existing customers\n",
    "CC = df[df['Attrition_Flag'] =='Existing Customer'].shape[0]\n",
    "print('# Existing Customers = {}'.format(CC))\n",
    "print('# Starting Customers = {}'.format(SC))\n",
    "\n",
    "#churn rate\n",
    "RR = CC/SC\n",
    "print('Retention Rate = {}%'.format(round(RR, 3)))"
   ]
  },
  {
   "cell_type": "markdown",
   "metadata": {},
   "source": [
    "### Relationship between churn and retention"
   ]
  },
  {
   "cell_type": "markdown",
   "metadata": {},
   "source": [
    "Plugging into the formula:\n",
    "$$RetentionRate=\\frac{8500}{10127}=0.839\\%$$\n",
    "\n",
    "Since customers fall either under `Existing Customer` or `Attrited Customer`, it makes sense that the retention rate is the opposite of the churn rate. Let's explore this relationship.  \n",
    "The number of starting customers is composed by both customers who churn and customers who are retained:\n",
    "\n",
    "$$\\#StartingCustomers = \\#ChurnedCustomers + \\#ExistingCustomers$$\n",
    "\n",
    "We'll use shorter abbreviations for these variables from now on. The three terms in the equation are $Start$, $Churn$, and $Retention$ respectively. We can divide both sides of the equation by $\\#StartingCustomers$ to get $1$ on the left-hand side:\n",
    "\n",
    "$$\\frac{Start}{Start}=\\frac{Churn}{Start} + \\frac{Retention}{Start}$$\n",
    "\n",
    "The fractions on the right-hand side of the equation were already defined as the churn rate and the retention rate, which leads to the following identity:\n",
    "\n",
    "$$100\\%=ChurnRate+RetentionRate$$\n",
    "\n",
    "Since $ChurnRate$ and $RetentionRate$ add up to $100\\%$, calculating one will lead to the other and it doesn't make a difference which one is used for analysis. We will stick with churn rate since the purpose of this analysis is to reduce churn."
   ]
  },
  {
   "cell_type": "markdown",
   "metadata": {},
   "source": [
    "## Churn Data"
   ]
  },
  {
   "cell_type": "markdown",
   "metadata": {},
   "source": [
    "Some datasets on customer churn might contain more columns than the data used for this analysis, but there are some required keys that are needed for churn analysis:\n",
    "\n",
    "- *Account ID* - This variable defines unique accounts. Keep in mind that the same account can be using multiple services. Current dataset name: `CLIENTNUM`\n",
    "- *Product ID* - Identifies which product corresponds to the data in that row. For the current dataset, we assume all rows refer to the same product (credit card)\n",
    "- *Start Date* - The date in which the customer began using the product. For the current datset, we assume all customers have the same start date or at least close enough to each other.\n",
    "- *End Date* - The date in which the customer churned. If they didn't churn, there is not date. For the current dataset, we assume `Attrition_Flag` was measured at the same time for all customers.  \n",
    "\n",
    "This data can come from multiple sources. For credit cards, there is normally a database with all transactions, another one with the customer's file, and another with application data. For example, in this dataset, a variable like `Total_Trans_Amt` will come from a transaction database, `Credit_Limit` from the customer file, and `Education_Level` from the credit application data. To obtain a table similar to the one here, these data sources must be merged on the keys mentioned above."
   ]
  },
  {
   "cell_type": "markdown",
   "metadata": {},
   "source": [
    "## Net Retention"
   ]
  },
  {
   "cell_type": "markdown",
   "metadata": {},
   "source": [
    "Before moving on to calculating churn metrics, it's import to define a *Monthly recurring revenue (MRR)* variable from the data. In the context of credit cards, a financial institution makes money when accountholders carry their balance over at least one billing cycle. The dataset here does not have historical information on this, but `Total_Revolving_Bal` tells us the the total revolving balance on the credit card. For simplicity, let's assume that all credit cards have an APR of 24% and thus a simple monthly interest rate of $2\\%$. In this context, we can approximate the revenue that the financial institution makes on the credit card by taking $2\\%$ of the total revolving balance for each account. Since there is another variable `Card_Category` that specifies the type of card (Blue, Silver, Gold, Platinum), we'll assume that this is only for difference in credit limit and not in APR."
   ]
  },
  {
   "cell_type": "code",
   "execution_count": 34,
   "metadata": {},
   "outputs": [
    {
     "data": {
      "image/png": "[encoded data removed]",
      "text/plain": [
       "<Figure size 360x360 with 1 Axes>"
      ]
     },
     "metadata": {},
     "output_type": "display_data"
    }
   ],
   "source": [
    "# estimating monthly recurring revenue\n",
    "df.loc[:, 'Monthly_Recurring_Rev'] = df['Total_Revolving_Bal'] * 0.02\n",
    "\n",
    "# plotting averages\n",
    "g = sns.catplot(data = df, x='Attrition_Flag', y='Monthly_Recurring_Rev', kind='box')\n",
    "g.set_axis_labels('Attrition Flag', 'Monthly Recurring Revenue')\n",
    "plt.show()"
   ]
  },
  {
   "cell_type": "markdown",
   "metadata": {},
   "source": [
    "### Calculating net retention"
   ]
  },
  {
   "cell_type": "markdown",
   "metadata": {},
   "source": [
    "With MRR calculated, we can derive a basic metric called net retention. Net retention is measured over a specific time window, which in this case is the time windows in which the accounts were measured to produce the data. *Net retention rate (NRR)* is the proportion of recurring revenue from existing customers over the recurring revenue from all customers at the start date (remember start date is implicitly the same for all accounts in this example). Net retention is an appropriate churn metric because it doesn't include newly acquired accounts. It can also include current changes in revenue streams for existing customres, but we will ignore that for simplicity.\n",
    "\n",
    "$$NetRetention=\\frac{MRR_{retention}}{MRR_{start}}$$\n",
    "\n",
    "This is slightly different to how we calculated $ChurnRate$ and $RetentionRate$ before, since this metric gives more wait to customers that have a higher MRR."
   ]
  },
  {
   "cell_type": "code",
   "execution_count": 43,
   "metadata": {},
   "outputs": [
    {
     "name": "stdout",
     "output_type": "stream",
     "text": [
      "MRR Retention = $213622.7\n",
      "MRR Start = $235516.36\n",
      "Net Retention Rate = 0.907\n",
      "Net Churn Rate = 0.093\n"
     ]
    }
   ],
   "source": [
    "# calculting MRR_retention\n",
    "MRR_retention = df[df['Attrition_Flag'] == 'Existing Customer']['Monthly_Recurring_Rev'].sum()\n",
    "print('MRR Retention = ${}'.format(MRR_retention))\n",
    "\n",
    "# calculating MRR_start\n",
    "MRR_start = df['Monthly_Recurring_Rev'].sum()\n",
    "print('MRR Start = ${}'.format(MRR_start))\n",
    "\n",
    "# calculating Net Retention Rate\n",
    "NRR =  MRR_retention / MRR_start\n",
    "print('Net Retention Rate = {}'.format(round(NRR, 3)))\n",
    "\n",
    "# calculating Net Churn Rate\n",
    "NCR = 1 - NRR\n",
    "print('Net Churn Rate = {}'.format(round(NCR, 3)))"
   ]
  },
  {
   "cell_type": "markdown",
   "metadata": {},
   "source": [
    "Plugging into the formula:\n",
    "\n",
    "$$NetRetention=\\frac{\\$213,622.70}{\\$235,516.36}=0.907\\%$$\n",
    "\n",
    "Just like before, we can also calculate a *Net Churn Rate* by subtracting $100\\%$ from the *Net Retetion Rate*:\n",
    "\n",
    "$$NetChurn=100\\%-NetRetention=0.093\\%$$"
   ]
  },
  {
   "cell_type": "markdown",
   "metadata": {},
   "source": [
    "### Interpretation of net retention"
   ]
  },
  {
   "cell_type": "markdown",
   "metadata": {},
   "source": [
    "Here we made an assumption that all customers pay the same interest rate, but even so the revenue that they generated depended on their revolving balance. This is why the MRR churn is slightly different than the count-based churn calculations in the previous section. In other words, it only makes sense to calculate net retention when the service is not free and when different customers pay different amounts for using the service, which holds true for credit cards. There are four ways that customer revenue can change:\n",
    "\n",
    "- a new account is opened\n",
    "- a customer churns and stops using their account\n",
    "- upsell: an existing customer generates more revenue (charged a higher interest or has a higher revolving balance)\n",
    "- downsell: an existing customer generates less revenue (charged a lower interest or has a smaller revolving balance)\n",
    "\n",
    "Upsells can offset churn, but in the context of credit cards, it might not always happen. This is because charging a higher interest will motivate customers to change to another financial institution that charges them less. At the same time, revolving balance depends on a multitude of factors that are unique to the customer, so it is not always reliable to expect customer to carry higher balances in the future.  \n",
    "\n",
    "In the context of fighting churn, however, net retention has its limits. This is because upsells and downsells occur at different rates and magnitudes for the product as a whole, which the metric does not account for. Including upsells in the calculation is preferable because when customers churn, the potential revenue from upselling is lost. Even if it might not be as useful for data analysis, net retention is useful for external reporting, and it is a metric that is easily understood by investors. This is because it summarizes all revenue changes into one metric. Also, as mentioned before, upselling can increase revenue in a way that offsets the decreases in revenue from churning and downselling. This is known as *negative churn*. This desirable case occurs when $NetRetention > 100\\%$, which results in $NetChurn < 0\\%$"
   ]
  },
  {
   "cell_type": "markdown",
   "metadata": {},
   "source": [
    "## Account-Based Churn"
   ]
  },
  {
   "cell_type": "markdown",
   "metadata": {},
   "source": [
    "Let's go back to the initial $ChurnRate$ calculated as the proportion of customers who have cancelled their credit cards."
   ]
  },
  {
   "cell_type": "code",
   "execution_count": null,
   "metadata": {},
   "outputs": [],
   "source": []
  }
 ],
 "metadata": {
  "kernelspec": {
   "display_name": "Python 3",
   "language": "python",
   "name": "python3"
  },
  "language_info": {
   "codemirror_mode": {
    "name": "ipython",
    "version": 3
   },
   "file_extension": ".py",
   "mimetype": "text/x-python",
   "name": "python",
   "nbconvert_exporter": "python",
   "pygments_lexer": "ipython3",
   "version": "3.8.5"
  }
 },
 "nbformat": 4,
 "nbformat_minor": 4
}
