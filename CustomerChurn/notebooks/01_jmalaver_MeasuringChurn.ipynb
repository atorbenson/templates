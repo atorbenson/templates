{
 "cells": [
  {
   "cell_type": "markdown",
   "metadata": {},
   "source": [
    "# Measuring Churn\n",
    "Juan Malaver  \n",
    "eCapital Advisors, LLC  \n",
    "Data Science Consultant  \n",
    "jmalaver@ecapitaladvisors.com"
   ]
  },
  {
   "cell_type": "markdown",
   "metadata": {},
   "source": [
    "Churn can be defined in different ways to suit different business contexts. We can calculate churn directly from a relatively raw database containing recurring billing cycle data for each customer. We'll use credit cards as a reference for this and all subsequent notebooks, though the concepts can be applied to any product involving churn. There are some complexities that arise when calculating churn:\n",
    "- accounts can churn more than once (e.g. periods of credit card inactivity can occur multiple times)\n",
    "- accounts can hold multiple products (e.g. one person may have multiple credit cards, debit cards, etc.)  \n",
    "\n",
    "Raw data will not have a column indicating churn explicitly, especially since churn is measured at a specific point in time. Churn data is sensitive as well, which is why the data used in these notebooks was simulated using scripts from Carl Gold's book ***Fighting Churn With Data: Science and strategy for keeping your customers***. When extracting data from the database, it is also important that data scientists do not have access to *personally identifiable information* (PII). Billing cycle data will almost surely be significantly large, so to calculate churn, it is more efficient to implement the logic in the ETL process rather than extract the data and implementing the logic afterwards. To achieve this, we can use *SQL statements* to scale our approach to very large datasets."
   ]
  },
  {
   "cell_type": "markdown",
   "metadata": {},
   "source": [
    "### Data Import and Packages"
   ]
  },
  {
   "cell_type": "code",
   "execution_count": 6,
   "metadata": {},
   "outputs": [],
   "source": [
    "import numpy as np\n",
    "import pandas as pd\n",
    "import matplotlib.pyplot as plt\n",
    "import seaborn as sns\n",
    "%matplotlib inline\n",
    "sns.set()"
   ]
  },
  {
   "cell_type": "code",
   "execution_count": 54,
   "metadata": {},
   "outputs": [],
   "source": [
    "%run '../credentials/settings.py'\n",
    "import os\n",
    "\n",
    "# obtaining credentials (stored as environmental variables in .env file)\n",
    "USER = os.getenv('CHURN_DB_USER')\n",
    "PASS = os.getenv('CHURN_DB_PASS')\n",
    "IP = os.getenv('CHURN_DB_IP')\n",
    "PORT = os.getenv('CHURN_DB_PORT')\n",
    "DB = os.getenv('CHURN_DB_NAME')"
   ]
  },
  {
   "cell_type": "code",
   "execution_count": 55,
   "metadata": {},
   "outputs": [
    {
     "name": "stdout",
     "output_type": "stream",
     "text": [
      "['event', 'subscription', 'event_type', 'metric', 'metric_name', 'active_period', 'observation', 'active_week', 'account']\n"
     ]
    }
   ],
   "source": [
    "from sqlalchemy import create_engine\n",
    "\n",
    "# SQL engine and connection\n",
    "engine = create_engine('postgresql+psycopg2://{}:{}@{}:{}/{}'.format(USER, PASS, IP, PORT, DB))\n",
    "connection = engine.connect()\n",
    "\n",
    "# printing table names\n",
    "print(engine.table_names(schema='churnsim'))"
   ]
  },
  {
   "cell_type": "markdown",
   "metadata": {},
   "source": [
    "## Churn Rate"
   ]
  },
  {
   "cell_type": "markdown",
   "metadata": {},
   "source": [
    "Imagine observing the pools of credit cardholders at two different points in time: $start$ and $end$. We might care either about how many cardholders there are, or how much revenue they generate, but for now we'll focus on revenue. At $start$, the pool is composed of both $churn$ customers and $retained$ customers. At $end$, the pool is composed of newly acquired customers and the same $retained$ customers from $start$, implying an overlap between the two pools."
   ]
  },
  {
   "cell_type": "markdown",
   "metadata": {},
   "source": [
    "### Calculations"
   ]
  },
  {
   "cell_type": "markdown",
   "metadata": {},
   "source": [
    "The formula for churn rate based on the previous logic is\n",
    "\n",
    "$$ChurnRate=\\frac{churn}{start}$$  \n",
    "\n",
    "where $start$ and $churn$ are as defined before. $ChurnRate$ is not derived from the customers at the $end$ time period because newly acquired customers are separate from the issue of churn. This is why churn rate only uses customers in $start$.\n",
    "\n",
    "$$RetentionRate=\\frac{retained}{start}$$"
   ]
  },
  {
   "cell_type": "markdown",
   "metadata": {},
   "source": [
    "### Connecting churn and retenion"
   ]
  },
  {
   "cell_type": "markdown",
   "metadata": {},
   "source": [
    "As we mentioned before, $start$ is composed of both $churn$ and $retained$ customers:\n",
    "\n",
    "$$start=churn+retained$$  \n",
    "\n",
    "We can do some algebraic manipulation and divide both sides by $start$:\n",
    "\n",
    "$$\\frac{start}{start}=\\frac{churn}{start}+\\frac{retained}{start}$$  \n",
    "$$100\\%=ChurnRate+RetentionRate$$  \n",
    "\n",
    "This means that $churn$ and $retained$ are two disjoint sets that partition the sample space $start$ of all customers at a given point in time. $ChurnRate$ is what we want to decrease."
   ]
  },
  {
   "cell_type": "markdown",
   "metadata": {},
   "source": [
    "## Database"
   ]
  },
  {
   "cell_type": "markdown",
   "metadata": {},
   "source": [
    "To calculate churn, we will need a database that tracks customers' billing cycles. This database is structured by specific key variables.\n",
    "\n",
    "| Column | Data type |\n",
    "| ----------- | ----------- |\n",
    "| account_id | int |\n",
    "| product_id | int |\n",
    "| start_date | date |\n",
    "| end_date | date |  \n",
    "\n",
    "Of course we expect a real database to have many more columns than the ones mentioned, but these are essential fields needed for this specific dataframe structure.\n",
    "\n",
    "- `account_id` - unique key for each account\n",
    "- `product_id` - unique key for each product\n",
    "- `start_date` - start of billing cycle\n",
    "- `end_date` - end of billing cycle  \n",
    "\n",
    "A credit card account is opened by a customer, beginning on a specific date and being charged recurringly at each billing cycle. If the billing cycle is stil in progess, then there is no end date. This data is often messy, so we will write out SQL scripts carefully to catch as many irregularities in the data as possible."
   ]
  },
  {
   "cell_type": "markdown",
   "metadata": {},
   "source": [
    "## Net Retention"
   ]
  },
  {
   "cell_type": "markdown",
   "metadata": {},
   "source": [
    "The *Net retention rate* (NRR) is the proportion of customer revenue recevied at $end$ from customers who were part of $start$. Like $ChurnRate$, NRR is not derived from newly acquire customers and their revenue. NRR incorporates changes in revenue from $retained$ customers, which is important for credit cards because customer revenue depends on usage."
   ]
  },
  {
   "cell_type": "markdown",
   "metadata": {},
   "source": [
    "### Calculations"
   ]
  },
  {
   "cell_type": "markdown",
   "metadata": {},
   "source": [
    "$$NetRetention=\\frac{MRR_{retained}}{MRR_{start}}$$  \n",
    "\n",
    "where $MRR$ is monthly recurring revenue from all customers in $retained$ and $start$ respectively. For credit cards, $MRR$ will almost always be different for each customer every billing cycle. $MRR$ also depends on the product itself: a financial institution can offer different credit cards, each with different revenue models. Some considerations about NRR:\n",
    "\n",
    "- $NetRetention$ is based on $MRR$ so customers who generate more revenue will have bigger impact on $NetRetention$ if they churn\n",
    "- When $MRR$ changes for retained customers, $NetRetention$ is also impacted  \n",
    "\n",
    "We can also calculate $NetChurn$ in a similar logic as before:\n",
    "\n",
    "$$NetChurn=100\\% - \\frac{MRR_{retained}}{MRR_{start}}$$  "
   ]
  },
  {
   "cell_type": "markdown",
   "metadata": {},
   "source": [
    "### SQL net retention"
   ]
  },
  {
   "cell_type": "markdown",
   "metadata": {},
   "source": [
    "To calculate net churn, a SQL program will follow a specific logic:\n",
    "\n",
    "1. Set start and end dates\n",
    "2. Identify customers and their revenue at start\n",
    "3. Identify customers and their revenue at end\n",
    "4. Identify retained customers and their revenue\n",
    "5. Divide retained customer revenue by start customer revenue  "
   ]
  },
  {
   "cell_type": "code",
   "execution_count": 179,
   "metadata": {},
   "outputs": [],
   "source": [
    "# SQL statement\n",
    "stmt = '''\n",
    "WITH\n",
    "-- period for calculating churn\n",
    "date_range AS (\n",
    "    SELECT '2020-03-01'::date AS start_date, '2020-04-01'::date AS end_date\n",
    "),\n",
    "-- CTE with active accounts at start and their total revenue\n",
    "start_accounts AS \n",
    "(\n",
    "    -- MRR is summed to account for cases with multiple products\n",
    "    SELECT account_id, SUM(mrr) AS total_mrr -- \n",
    "    FROM churnsim.subscription s INNER JOIN date_range d ON\n",
    "        -- Being active means that start date is at or before the date and end date is after the date or null\n",
    "        s.start_date <= d.start_date \n",
    "        AND (s.end_date > d.start_date OR s.end_date IS NULL)\n",
    "    -- grouping by account so total revenue corresponds to each account\n",
    "    GROUP BY account_id\n",
    "),\n",
    "-- CTE with active accounts at end and their total revenue\n",
    "end_accounts AS\n",
    "(\n",
    "    SELECT account_id, SUM(mrr) AS total_mrr\n",
    "    FROM churnsim.subscription s INNER JOIN date_range d ON\n",
    "        s.start_date <= d.end_date\n",
    "        AND (s.end_date > d.end_date OR s.end_date IS NULL)\n",
    "    GROUP BY account_id\n",
    "),\n",
    "-- CTE with retained accounts\n",
    "retained_accounts AS (\n",
    "    SELECT s.account_id, SUM(e.total_mrr) AS total_mrr\n",
    "    FROM start_accounts s\n",
    "    INNER JOIN end_accounts e ON s.account_id = e.account_id\n",
    "    GROUP BY s.account_id\n",
    "),\n",
    "-- sum of total revenue of accounts at start\n",
    "start_mrr AS (\n",
    "    SELECT SUM(start_accounts.total_mrr) AS start_mrr\n",
    "    FROM start_accounts\n",
    "),\n",
    "-- sum of total revenue of retained accounts\n",
    "retain_mrr AS (\n",
    "    SELECT SUM(retained_accounts.total_mrr) AS retain_mrr\n",
    "    FROM retained_accounts\n",
    ")\n",
    "SELECT\n",
    "-- net retention formula\n",
    "retain_mrr / start_mrr AS net_mrr_retention_rate,\n",
    "-- net churn formula\n",
    "    1.0 - retain_mrr / start_mrr as net_mrr_churn_rate,\n",
    "start_mrr,\n",
    "retain_mrr\n",
    "FROM start_mrr, retain_mrr\n",
    "'''"
   ]
  },
  {
   "cell_type": "markdown",
   "metadata": {},
   "source": [
    "Let's breakdown each CTE in the SQL statement:\n",
    "\n",
    "1. `date_range` - one row with start and end dates for calculation\n",
    "2. `start_accounts` - one row for each active account at start\n",
    "3. `end_accounts` - one row for each active account at end\n",
    "4. `retained_accounts` - one row for each active account at both start and end\n",
    "5. `start_mrr` - one row with total MRR at start\n",
    "6. `retained_mrr` - one row with total MRR for retained accounts\n",
    "7. `SELECT` - calculating net retention and net churn  \n",
    "\n",
    "The final result is shown in the following table."
   ]
  },
  {
   "cell_type": "code",
   "execution_count": 180,
   "metadata": {},
   "outputs": [
    {
     "data": {
      "text/html": [
       "<div>\n",
       "<style scoped>\n",
       "    .dataframe tbody tr th:only-of-type {\n",
       "        vertical-align: middle;\n",
       "    }\n",
       "\n",
       "    .dataframe tbody tr th {\n",
       "        vertical-align: top;\n",
       "    }\n",
       "\n",
       "    .dataframe thead th {\n",
       "        text-align: right;\n",
       "    }\n",
       "</style>\n",
       "<table border=\"1\" class=\"dataframe\">\n",
       "  <thead>\n",
       "    <tr style=\"text-align: right;\">\n",
       "      <th></th>\n",
       "      <th>net_mrr_retention_rate</th>\n",
       "      <th>net_mrr_churn_rate</th>\n",
       "      <th>start_mrr</th>\n",
       "      <th>retain_mrr</th>\n",
       "    </tr>\n",
       "  </thead>\n",
       "  <tbody>\n",
       "    <tr>\n",
       "      <th>0</th>\n",
       "      <td>0.942336</td>\n",
       "      <td>0.057664</td>\n",
       "      <td>102906.99</td>\n",
       "      <td>96972.93</td>\n",
       "    </tr>\n",
       "  </tbody>\n",
       "</table>\n",
       "</div>"
      ],
      "text/plain": [
       "   net_mrr_retention_rate  net_mrr_churn_rate  start_mrr  retain_mrr\n",
       "0                0.942336            0.057664  102906.99    96972.93"
      ]
     },
     "execution_count": 180,
     "metadata": {},
     "output_type": "execute_result"
    }
   ],
   "source": [
    "pd.read_sql(stmt, con=engine)"
   ]
  },
  {
   "cell_type": "markdown",
   "metadata": {},
   "source": [
    "### Interpretation"
   ]
  },
  {
   "cell_type": "markdown",
   "metadata": {},
   "source": [
    "The revenue that each customer generates for every billing cycle varies, which means that calculating net retention based on revenue will not be the same as calculating on customer counts. Since revenue can change over time, there are four ways that total revenue can change:\n",
    "\n",
    "- newly acquired customers\n",
    "- churned customers\n",
    "- upsells (retained customers generating higher revenue)\n",
    "- downsells (retained customers generating lower revenue)  \n",
    "\n",
    "Upsells can decrease churn, while downsells can increase it. Including downsells makes sense because customers that generate lower revenue are essentially customers that are not as engaged with the product anymore, so the lost revenue from downsells is simply subtracted from the $start$ revenue. Upsells, however, come from the $end$ customer pool, so NRR is no longer derived from two subsets of a greater whole. For this reason, NRR might not be the best way to measure churn, though it is generally useful for external reporting. It is also possible that upsells generate more revenue than the decrease in revenue from churners and downsells, which is known as *negative churn* and is an ideal scenario for any business."
   ]
  },
  {
   "cell_type": "markdown",
   "metadata": {},
   "source": [
    "## Account-Based Churn"
   ]
  },
  {
   "cell_type": "markdown",
   "metadata": {},
   "source": [
    "Account-based churn is not impacted by upsells or downsells.\n",
    "\n",
    "> *Starndard churn* - proportion of customers who have churned completely\n",
    "\n",
    "This measure is also known as the *account churn rate*, as it is derived from account activity across products. When calculating the standard churn rate, a customer who cancels one of their credit cards but actively mantains another is not considered a churner."
   ]
  },
  {
   "cell_type": "markdown",
   "metadata": {},
   "source": [
    "### Definition"
   ]
  },
  {
   "cell_type": "markdown",
   "metadata": {},
   "source": [
    "Similar to calculating net churn, the standard churn rate needs a SQL program will follow a specific logic:\n",
    "\n",
    "1. Set start and end dates\n",
    "2. Identify and count customers  at start\n",
    "3. Identify and count customers at end\n",
    "4. Identify and count churned customers\n",
    "5. Divide churn count by start count "
   ]
  },
  {
   "cell_type": "markdown",
   "metadata": {},
   "source": [
    "### Outer joins"
   ]
  },
  {
   "cell_type": "markdown",
   "metadata": {},
   "source": [
    "Churned accounts are selected from $start$ and $end$ by using a SQL *outer join*. This is different from using *inner join* as we did in the SQL statement for NRR, which returns all matching rows in both tables. An outer join returns all rows from one table, even if there is no matching row in the other table. We need this logic for the standard churn rate because we want to find the accounts that were part of $start$, but not part of $end$. An inner join would return accounts that are in both pools, while and outer join will return all accounts from $start$, both the ones that churned and the retained accounts. In SQL, we find churners by using a `WHERE` clause to filter for accounts where the `account_id` is null at $end$."
   ]
  },
  {
   "cell_type": "markdown",
   "metadata": {},
   "source": [
    "### SQL standard churn"
   ]
  },
  {
   "cell_type": "code",
   "execution_count": 183,
   "metadata": {},
   "outputs": [],
   "source": [
    "# SQL statement\n",
    "stmt = '''\n",
    "WITH\n",
    "-- period for calculating churn\n",
    "date_range AS (\n",
    "    SELECT '2020-03-01'::date AS start_date, '2020-04-01'::date AS end_date\n",
    "),\n",
    "-- CTE with active accounts at start\n",
    "start_accounts AS \n",
    "(\n",
    "    -- Distinct query used for accounts with multiple products\n",
    "    SELECT DISTINCT account_id\n",
    "    FROM churnsim.subscription s INNER JOIN date_range d ON\n",
    "        s.start_date <= d.start_date \n",
    "        AND (s.end_date > d.start_date OR s.end_date IS NULL)\n",
    "),\n",
    "-- CTE with active accounts at end\n",
    "end_accounts AS\n",
    "(\n",
    "    SELECT DISTINCT account_id\n",
    "    FROM churnsim.subscription s INNER JOIN date_range d ON\n",
    "        s.start_date <= d.end_date\n",
    "        AND (s.end_date > d.end_date OR s.end_date IS NULL)\n",
    "),\n",
    "-- CTE with churned accounts\n",
    "churned_accounts AS (\n",
    "    SELECT s.account_id\n",
    "    FROM start_accounts s\n",
    "    -- outer join includes all records at start\n",
    "    LEFT OUTER JOIN end_accounts e ON\n",
    "    -- accounts are matched by their id and filled with NULL for end accounts if there is no match\n",
    "    s.account_id = e.account_id\n",
    "    -- where clause removes records with no churn (non-null account_id)\n",
    "    WHERE e.account_id IS NULL\n",
    "),\n",
    "-- count of active accounts at start\n",
    "start_count AS (\n",
    "    SELECT COUNT(*) AS n_start FROM start_accounts\n",
    "),\n",
    "-- count of churned accounts\n",
    "churn_count AS (\n",
    "    SELECT COUNT(*) AS n_churn FROM churned_accounts\n",
    ")\n",
    "SELECT\n",
    "-- churn rate formula\n",
    "n_churn::float / n_start::float\n",
    "        AS churn_rate,\n",
    "    -- retention rate formula\n",
    "    1.0-n_churn::float / n_start::float\n",
    "        AS retention_rate,\n",
    "n_start,\n",
    "n_churn\n",
    "FROM start_count, churn_count\n",
    "'''"
   ]
  },
  {
   "cell_type": "markdown",
   "metadata": {},
   "source": [
    "Like before, let's breakdown each CTE:\n",
    "\n",
    "1. `date_range` - one row with start and end dates for calculation\n",
    "2. `start_accounts` - one row for each active account at start\n",
    "3. `end_accounts` - one row for each active account at end\n",
    "4. `churned_accounts` - one row for each account active at start but not active at end\n",
    "5. `start_count` - one row with total count at start\n",
    "6. `churn_count` - one row with total count of churned accounts\n",
    "7. `SELECT` - calculating standard churn rate \n",
    "\n",
    "The final result is shown in the following table."
   ]
  },
  {
   "cell_type": "code",
   "execution_count": 184,
   "metadata": {},
   "outputs": [
    {
     "data": {
      "text/html": [
       "<div>\n",
       "<style scoped>\n",
       "    .dataframe tbody tr th:only-of-type {\n",
       "        vertical-align: middle;\n",
       "    }\n",
       "\n",
       "    .dataframe tbody tr th {\n",
       "        vertical-align: top;\n",
       "    }\n",
       "\n",
       "    .dataframe thead th {\n",
       "        text-align: right;\n",
       "    }\n",
       "</style>\n",
       "<table border=\"1\" class=\"dataframe\">\n",
       "  <thead>\n",
       "    <tr style=\"text-align: right;\">\n",
       "      <th></th>\n",
       "      <th>churn_rate</th>\n",
       "      <th>retention_rate</th>\n",
       "      <th>n_start</th>\n",
       "      <th>n_churn</th>\n",
       "    </tr>\n",
       "  </thead>\n",
       "  <tbody>\n",
       "    <tr>\n",
       "      <th>0</th>\n",
       "      <td>0.057664</td>\n",
       "      <td>0.942336</td>\n",
       "      <td>10301</td>\n",
       "      <td>594</td>\n",
       "    </tr>\n",
       "  </tbody>\n",
       "</table>\n",
       "</div>"
      ],
      "text/plain": [
       "   churn_rate  retention_rate  n_start  n_churn\n",
       "0    0.057664        0.942336    10301      594"
      ]
     },
     "execution_count": 184,
     "metadata": {},
     "output_type": "execute_result"
    }
   ],
   "source": [
    "pd.read_sql(stmt, con=engine)"
   ]
  },
  {
   "cell_type": "markdown",
   "metadata": {},
   "source": [
    "### Interpretation"
   ]
  },
  {
   "cell_type": "markdown",
   "metadata": {},
   "source": [
    "The standard churn rate is preferred when all customer pay similar amounts recurringly. If all customers pay the *exact* same amount, then net retention and standard churn are the same. For credit cards, customers generate different revenue not only between each other but across time as well. Whether it's appropriate to use standard churn in a credit card scenario depends on the variation of revenue for all accounts. Churn analysis creates models to predict churn, which means that an accurate predictive model should be able to predict churners at the same rate as the standard churn rate. On the other hand, if the variation in revenue is significant, then standard churn rate is not appropriate."
   ]
  },
  {
   "cell_type": "markdown",
   "metadata": {},
   "source": [
    "## Activity Churn"
   ]
  },
  {
   "cell_type": "markdown",
   "metadata": {},
   "source": [
    "We can also calculate churn on customer activity, which depends not on whether a customer is billed on a given cycle, but instead on the event activity during a specific period of time. To calculate activity churn, we need to differentiate between customers that are active and those that are inactive (or churners). We will use a different dataset for this, which tracks the events in a customer's lifespan. In the context of credit cards, this is a transactional database that tracks all activity and records when each transaction took place. "
   ]
  },
  {
   "cell_type": "markdown",
   "metadata": {},
   "source": [
    "### Definition"
   ]
  },
  {
   "cell_type": "markdown",
   "metadata": {},
   "source": [
    "An *active* customer is on that has used the product at least one in a recent period of time. User activity often occurs in clusters, so we define a period as active when there is not large gap between two events. For example, an active period is one where the gaps two successive transacations are small. If the maximum threshold for a gap between two successive events occurs, then that is considered a churn event. We can also add additional flavor to this definition with restrictions like\n",
    "\n",
    "- active periods occur only of specific events occurs (e.g. credit card merchandise transaction)\n",
    "- active periods occur only if a minimum number of events occur (e.g. at least 5 transactions)\n",
    "- active periods occur only if they pass a metric test (e.g. minimum spend of \\$10)"
   ]
  },
  {
   "cell_type": "markdown",
   "metadata": {},
   "source": [
    "### SQL activity churn"
   ]
  },
  {
   "cell_type": "markdown",
   "metadata": {},
   "source": [
    "We will not use the billing cycle table for activity churn, but rather an event table. An account will be considered active if there exists a recent event in their history. We will calculate this on a monthly basis, and we will need to detect whether events occured in the last month. The logic is as follows:\n",
    "\n",
    "1. Identify active accounts at start (an event occured within the last month before the start date)\n",
    "2. Identify active accounts an end (an event occured within a window of time that ends at the end date)\n",
    "3. Outer join between accounts to identify churned accounts\n",
    "4. Dive number of churned accounts by number of active accounts at start"
   ]
  },
  {
   "cell_type": "code",
   "execution_count": 201,
   "metadata": {},
   "outputs": [],
   "source": [
    "# SQL statement\n",
    "stmt = '''\n",
    "WITH\n",
    "-- period for calculating churn\n",
    "date_range AS (\n",
    "    -- events use timestamps instead of dates\n",
    "    SELECT '2020-03-01'::TIMESTAMP AS start_date,\n",
    "        '2020-04-01'::TIMESTAMP AS end_date,\n",
    "        interval '1 months' AS inactivity_interval\n",
    "),\n",
    "-- CTE with active accounts at start\n",
    "start_accounts AS \n",
    "(\n",
    "    SELECT DISTINCT account_id\n",
    "    FROM churnsim.event e INNER JOIN date_range d ON\n",
    "        e.event_time > start_date - inactivity_interval \n",
    "        AND e.event_time <= start_date\n",
    "),\n",
    "-- count of active accounts at start\n",
    "start_count AS\n",
    "(\n",
    "    SELECT COUNT(start_accounts.*) AS n_start FROM start_accounts\n",
    "),\n",
    "-- CTE with active accounts at end\n",
    "end_accounts AS \n",
    "(\n",
    "    SELECT DISTINCT account_id\n",
    "    FROM churnsim.event e INNER JOIN date_range d ON\n",
    "        e.event_time > end_date - inactivity_interval \n",
    "        AND e.event_time <= end_date\n",
    "),\n",
    "-- count of active accounts at end\n",
    "end_count AS\n",
    "(\n",
    "    SELECT COUNT(end_accounts.*) AS n_end FROM end_accounts\n",
    "),\n",
    "-- CTE with churned accounts\n",
    "churned_accounts AS \n",
    "(\n",
    "    SELECT DISTINCT s.account_id\n",
    "    FROM start_accounts s\n",
    "    LEFT OUTER JOIN end_accounts e ON s.account_id = e.account_id\n",
    "    WHERE e.account_id IS NULL\n",
    "),\n",
    "-- count of churned accounts\n",
    "churn_count AS (\n",
    "    SELECT COUNT(churned_accounts.*) AS n_churn \n",
    "    FROM churned_accounts\n",
    ")\n",
    "SELECT\n",
    "n_churn::float / n_start::float AS churn_rate,\n",
    "    1.0-n_churn::float / n_start::float AS retention_rate,\n",
    "n_start,\n",
    "n_churn\n",
    "FROM start_count, end_count, churn_count\n",
    "'''"
   ]
  },
  {
   "cell_type": "markdown",
   "metadata": {},
   "source": [
    "One of the main differences between churn calculated on billing cycles and churn calculated on event data is that activity churn requires a wait time before we can identify a customer as a churner or not. With billing cycles, we know when a customer has churned if we can assert that they will not use the product in the next cycle (e.g. closed the account, account expiration, etc.). When we calculate churn based on activity however, we will not know if a transacation will be a customer's last transaction until we wait for some time and observe zero transactions during that time. The output of the SQL statement is shown below."
   ]
  },
  {
   "cell_type": "code",
   "execution_count": 202,
   "metadata": {},
   "outputs": [
    {
     "data": {
      "text/html": [
       "<div>\n",
       "<style scoped>\n",
       "    .dataframe tbody tr th:only-of-type {\n",
       "        vertical-align: middle;\n",
       "    }\n",
       "\n",
       "    .dataframe tbody tr th {\n",
       "        vertical-align: top;\n",
       "    }\n",
       "\n",
       "    .dataframe thead th {\n",
       "        text-align: right;\n",
       "    }\n",
       "</style>\n",
       "<table border=\"1\" class=\"dataframe\">\n",
       "  <thead>\n",
       "    <tr style=\"text-align: right;\">\n",
       "      <th></th>\n",
       "      <th>churn_rate</th>\n",
       "      <th>retention_rate</th>\n",
       "      <th>n_start</th>\n",
       "      <th>n_churn</th>\n",
       "    </tr>\n",
       "  </thead>\n",
       "  <tbody>\n",
       "    <tr>\n",
       "      <th>0</th>\n",
       "      <td>0.064575</td>\n",
       "      <td>0.935425</td>\n",
       "      <td>10964</td>\n",
       "      <td>708</td>\n",
       "    </tr>\n",
       "  </tbody>\n",
       "</table>\n",
       "</div>"
      ],
      "text/plain": [
       "   churn_rate  retention_rate  n_start  n_churn\n",
       "0    0.064575        0.935425    10964      708"
      ]
     },
     "execution_count": 202,
     "metadata": {},
     "output_type": "execute_result"
    }
   ],
   "source": [
    "pd.read_sql(stmt, con=engine)"
   ]
  },
  {
   "cell_type": "markdown",
   "metadata": {},
   "source": [
    "## Monthly Recurring Revenue Churn "
   ]
  },
  {
   "cell_type": "markdown",
   "metadata": {},
   "source": [
    "The standard churn rate ignores downsells, which are part of churn, but the net retention rate includes both downsells and upsells, the latter of which is not a part of churn. We use MRR churn to address both of these flaws, and it is the most accurate measure when accounts can have multiple products and have varying revenue streams in each of those products."
   ]
  },
  {
   "cell_type": "markdown",
   "metadata": {},
   "source": [
    "### Definition and calculations"
   ]
  },
  {
   "cell_type": "markdown",
   "metadata": {},
   "source": [
    "MRR Churn is the proportion of losses when compared to the start_date, but MRR churn incorporates losses from both churn and downsells. This means that MRR includes losses from outright churns, but also from customers who are generating less revenue then they were at the start (e.g. less activity).\n",
    "\n",
    "$$MRRChurn=\\frac{MRR_{churn}+MRR{downsell}}{MRR_{start}}$$  "
   ]
  },
  {
   "cell_type": "markdown",
   "metadata": {},
   "source": [
    "### SQL MRR churn"
   ]
  },
  {
   "cell_type": "markdown",
   "metadata": {},
   "source": [
    "To calculate MRR churn using SQL, we use elements from both net retentions and standard churn calculations. The logic is as follows:\n",
    "\n",
    "1. Set start and end dates\n",
    "2. Identify customers and total revenue at start\n",
    "3. Identify customers at end\n",
    "4. Identify churned customers and their revenue\n",
    "5. Identify downsell customer and amounts\n",
    "6. Divide total churned revenue and downsell revenue by start revenue\n",
    "\n",
    "The script itself will make use of the following CTEs:\n",
    "\n",
    "1. `date_range` - one row with start and end dates\n",
    "2. `start_accounts` - one row for each active account at start\n",
    "3. `end_accounts` - one row for each active account at end\n",
    "4. `churned_accounts` - one row for each churned account\n",
    "5. `downsell_accounts` - one row for each account with lower mrr at end than start\n",
    "6. `start_mrr` - one row with total MRR at start\n",
    "7. `churn_mrr` - one row with total MRR for churned accounts\n",
    "8. `downsell_mrr` - one row with total MRR for retained accounts\n",
    "6. `SELECT` - calculate MRR churn"
   ]
  },
  {
   "cell_type": "code",
   "execution_count": 192,
   "metadata": {},
   "outputs": [],
   "source": [
    "# SQL statement\n",
    "stmt = '''\n",
    "WITH\n",
    "-- period for calculating churn\n",
    "date_range AS (\n",
    "    SELECT '2020-03-01'::date AS start_date, '2020-04-01'::date AS end_date\n",
    "),\n",
    "-- CTE with active accounts at start\n",
    "start_accounts AS \n",
    "(\n",
    "    -- Distinct query used for accounts with multiple products\n",
    "    SELECT account_id, SUM(mrr) AS total_mrr\n",
    "    FROM churnsim.subscription s INNER JOIN date_range d ON\n",
    "        s.start_date <= d.start_date \n",
    "        AND (s.end_date > d.start_date OR s.end_date IS NULL)\n",
    "    GROUP BY account_id\n",
    "),\n",
    "-- CTE with active accounts at end\n",
    "end_accounts AS\n",
    "(\n",
    "    SELECT account_id, SUM(mrr) AS total_mrr\n",
    "    FROM churnsim.subscription s INNER JOIN date_range d ON\n",
    "        s.start_date <= d.end_date\n",
    "        AND (s.end_date > d.end_date OR s.end_date IS NULL)\n",
    "    GROUP BY account_id\n",
    "),\n",
    "-- CTE with churned accounts\n",
    "churned_accounts AS (\n",
    "    SELECT s.account_id, SUM(s.total_mrr) \n",
    "        AS total_mrr\n",
    "    FROM start_accounts s\n",
    "    -- outer join includes all records at start\n",
    "    LEFT OUTER JOIN end_accounts e ON\n",
    "    -- accounts are matched by their id and filled with NULL for end accounts if there is no match\n",
    "    s.account_id = e.account_id\n",
    "    -- where clause removes records with no churn (non-null account_id)\n",
    "    WHERE e.account_id IS NULL\n",
    "    GROUP BY s.account_id\n",
    "),\n",
    "-- CTE with downsell accounts\n",
    "downsell_accounts AS\n",
    "(\n",
    "    SELECT s.account_id, s.total_mrr-e.total_mrr\n",
    "        AS downsell_amount\n",
    "    FROM start_accounts s\n",
    "    -- inner join selects accounts active at both beginning and end\n",
    "    INNER JOIN end_accounts e ON s.account_id=e.account_id\n",
    "    -- where clause selects accounts generating less revenue at end\n",
    "    WHERE e.total_mrr < s.total_mrr\n",
    "),\n",
    "-- total MRR from active accounts at start\n",
    "start_mrr AS (\n",
    "    SELECT SUM(start_accounts.total_mrr) AS start_mrr \n",
    "    FROM start_accounts\n",
    "),\n",
    "-- total MRR from churned accounts\n",
    "churn_mrr AS (\n",
    "    SELECT SUM(churned_accounts.total_mrr) AS churn_mrr \n",
    "    FROM churned_accounts\n",
    "),\n",
    "-- total MRR from downsell accounts\n",
    "downsell_mrr AS (\n",
    "    -- coalesce fills zeros where there are no downsells\n",
    "    SELECT coalesce(SUM(downsell_accounts.downsell_amount), 0.0)\n",
    "        AS downsell_mrr\n",
    "    FROM downsell_accounts\n",
    ")\n",
    "SELECT\n",
    "    -- MRR churn formula\n",
    "    (churn_mrr+downsell_mrr) / start_mrr AS mrr_churn_rate,\n",
    "start_mrr,\n",
    "churn_mrr,\n",
    "downsell_mrr\n",
    "FROM start_mrr, churn_mrr, downsell_mrr\n",
    "'''"
   ]
  },
  {
   "cell_type": "code",
   "execution_count": 193,
   "metadata": {},
   "outputs": [
    {
     "data": {
      "text/html": [
       "<div>\n",
       "<style scoped>\n",
       "    .dataframe tbody tr th:only-of-type {\n",
       "        vertical-align: middle;\n",
       "    }\n",
       "\n",
       "    .dataframe tbody tr th {\n",
       "        vertical-align: top;\n",
       "    }\n",
       "\n",
       "    .dataframe thead th {\n",
       "        text-align: right;\n",
       "    }\n",
       "</style>\n",
       "<table border=\"1\" class=\"dataframe\">\n",
       "  <thead>\n",
       "    <tr style=\"text-align: right;\">\n",
       "      <th></th>\n",
       "      <th>mrr_churn_rate</th>\n",
       "      <th>start_mrr</th>\n",
       "      <th>churn_mrr</th>\n",
       "      <th>downsell_mrr</th>\n",
       "    </tr>\n",
       "  </thead>\n",
       "  <tbody>\n",
       "    <tr>\n",
       "      <th>0</th>\n",
       "      <td>0.057664</td>\n",
       "      <td>102906.99</td>\n",
       "      <td>5934.06</td>\n",
       "      <td>0.0</td>\n",
       "    </tr>\n",
       "  </tbody>\n",
       "</table>\n",
       "</div>"
      ],
      "text/plain": [
       "   mrr_churn_rate  start_mrr  churn_mrr  downsell_mrr\n",
       "0        0.057664  102906.99    5934.06           0.0"
      ]
     },
     "execution_count": 193,
     "metadata": {},
     "output_type": "execute_result"
    }
   ],
   "source": [
    "pd.read_sql(stmt, con=engine)"
   ]
  },
  {
   "cell_type": "markdown",
   "metadata": {},
   "source": [
    "### Interpretation"
   ]
  },
  {
   "cell_type": "markdown",
   "metadata": {},
   "source": [
    "So far we have learned three ways to calculate churn: net churn, standard churn, and MRR churn. We can summarize when each metric is most appropriate:\n",
    "\n",
    "- *Net churn* - external reporting metric to investors (equivalent to standard churn if all customers generate the same revenue)\n",
    "- *Standard churn* - customers generate relatively similar revenue, but the amounts are different enough to significantly impact net retention\n",
    "- *MRR churn* - customers generate significantly different revenue  \n",
    "\n",
    "MRR churn is very useful when the variation in customer revenue is large, which is often the case with credit cards: some cardholders have much higher utilization rates than others. The formula might suggest that MRR churn is always larger than standard churn, but this is not necessarily true because accounts that generate more revenue tend to churn at a lower rate than accounts that generate less revenue. In other words, accounts that generate the lowest revenue are the ones most likely to churn. For example, a credit cardholder who usually carries a high balance between billing cycles is more committed to using the credit card for a longer time. This is because customers with these kinds of spending habits are more deliberate in the way they use the credit card (i.e. the credit card is more present in their lives). Net churn tends to be the lowest of all measures beecause it also counts upsells for retained accounts and weighs that against the churn rate. "
   ]
  },
  {
   "cell_type": "markdown",
   "metadata": {},
   "source": [
    "## Measurement Conversion"
   ]
  },
  {
   "cell_type": "markdown",
   "metadata": {},
   "source": [
    "All the calculations done with the SQL statements in this notebook generated a churn metric over a single month. We can technically calculate churn over any time period, whether that be annually, quarterly, or other appropriate intervals. The calculation doesn't change when we change the time interval. There will be cases however, when we might want to know the annual churn rate even though that year is not over, or a product was recently launched in March and we want to know its churn performance over the year. The relationship between monthly churn and annual churn is a bit more complex than it might seem at first glance."
   ]
  },
  {
   "cell_type": "markdown",
   "metadata": {},
   "source": [
    "### Survivor analysis"
   ]
  },
  {
   "cell_type": "markdown",
   "metadata": {},
   "source": [
    "Every month, if a customer does not churn, they are considered a *survivor*. We care about how many customers can survive over multiple months, which we can summarize mathematically with the following logic:\n",
    "\n",
    "1. Given $N$ customers at the start fo the first month and monthly churn rate $c$, $cN$ customers churn on the first month and $(1-c)N=rN$ customers remain, for retention rate $r$.\n",
    "2. Month 2 starts with $rN=(1-c)N$ customers, and $c(1-c)N$ churn during that month. After month 2, there are $(1-c)N - c(1-c)N$ accounts remaining, which simplifies to\n",
    "\n",
    "$$(1-c)N\\times(1-c)=(1-c)^2N=r^2N$$  \n",
    "\n",
    "3. Month 3 starts with $r^2N=(1-c)^2N$ accounts and $c(1-c)^2N$ churn during that month. After month 3, there are $(1-c)^2N - c(1-c)^2N$ accounts remaining, which simplifies to \n",
    "\n",
    "$$(1-c)^2N\\times(1-c)=(1-c)^3N=r^3N$$ \n",
    "\n",
    "4. Continuing this patttern for $x$ months, we know that after month $x$ the number of remaining accounts is\n",
    "\n",
    "$$(1-c)^xN=r^xN$$"
   ]
  },
  {
   "cell_type": "markdown",
   "metadata": {},
   "source": [
    "### Converting churn rates"
   ]
  },
  {
   "cell_type": "markdown",
   "metadata": {},
   "source": [
    "Using the formula from survivor analysis, we can convert monthly churn rates into annual churn rates. The number of retained customers after one year is\n",
    "\n",
    "$$N_{year}=r^{12}N=(1-c)^{12}N$$  \n",
    "\n",
    "We can define $R=r^{12}$ as the annual retention rate, which we can multiply by the number of customers at the start to get the number of customers at the end of the year. We can also derive the annual churn rate $C$ from $R$ as\n",
    "\n",
    "$$C=100\\%-R=100\\%-(1-c)^{12}$$  \n",
    "\n",
    "We can also convert an annual retention rate to a monthly retention rate using algebra:\n",
    "\n",
    "$$r=\\sqrt[12]{R}=R^{1/12}$$\n",
    "\n",
    "Similarly, we can also derive the monthly churn rate from an annual churn rate:\n",
    "\n",
    "$$c=100\\%-\\sqrt[12]{1-C}=100\\%-(1-C)^{12}$$"
   ]
  },
  {
   "cell_type": "markdown",
   "metadata": {},
   "source": [
    "### SQL conversions"
   ]
  },
  {
   "cell_type": "markdown",
   "metadata": {},
   "source": [
    "We can use SQL to make any churn rate conversions between any time windows. For example, we might want to measure churn rate for a credit card that was first released less than a year ago and we want to use as much data as possible. For any churn rate $c'$ made over $p$ days, the equivalent annual churn rate $C$ is\n",
    "\n",
    "$$C=100\\%-(1-c')^{365/p}$$  \n",
    "\n",
    "Using a similar logic, we can also calculate a monthly churn rate $c$ from $c'$:\n",
    "\n",
    "$$c=100\\%-(1-c')^{(365/12)p}$$"
   ]
  },
  {
   "cell_type": "code",
   "execution_count": 205,
   "metadata": {},
   "outputs": [],
   "source": [
    "stmt='''\n",
    "WITH\n",
    "-- period for calculating churn\n",
    "date_range AS (\n",
    "    SELECT '2020-03-01'::date AS start_date, '2020-06-01'::date AS end_date\n",
    "),\n",
    "-- CTE with active accounts at start\n",
    "start_accounts AS \n",
    "(\n",
    "    -- Distinct query used for accounts with multiple products\n",
    "    SELECT DISTINCT account_id\n",
    "    FROM churnsim.subscription s INNER JOIN date_range d ON\n",
    "        s.start_date <= d.start_date \n",
    "        AND (s.end_date > d.start_date OR s.end_date IS NULL)\n",
    "),\n",
    "-- CTE with active accounts at end\n",
    "end_accounts AS\n",
    "(\n",
    "    SELECT DISTINCT account_id\n",
    "    FROM churnsim.subscription s INNER JOIN date_range d ON\n",
    "        s.start_date <= d.end_date\n",
    "        AND (s.end_date > d.end_date OR s.end_date IS NULL)\n",
    "),\n",
    "-- CTE with churned accounts\n",
    "churned_accounts AS (\n",
    "    SELECT s.account_id\n",
    "    FROM start_accounts s\n",
    "    -- outer join includes all records at start\n",
    "    LEFT OUTER JOIN end_accounts e ON\n",
    "    -- accounts are matched by their id and filled with NULL for end accounts if there is no match\n",
    "    s.account_id = e.account_id\n",
    "    -- where clause removes records with no churn (non-null account_id)\n",
    "    WHERE e.account_id IS NULL\n",
    "),\n",
    "-- count of active accounts at start\n",
    "start_count AS (\n",
    "    SELECT COUNT(*) AS n_start FROM start_accounts\n",
    "),\n",
    "-- count of churned accounts\n",
    "churn_count AS (\n",
    "    SELECT COUNT(*) AS n_churn FROM churned_accounts\n",
    ")\n",
    "SELECT\n",
    "    -- number of customers at start\n",
    "    n_start,\n",
    "    -- number of customers that churned\n",
    "    n_churn,\n",
    "-- standard churn rate\n",
    "n_churn::float/n_start::float AS measured_churn,\n",
    "-- difference in days between start and end\n",
    "end_date-start_date AS period_days,\n",
    "1.0-POWER(1.0-n_churn::float/n_start::float, 365.0 / (end_date-start_date)::float)\n",
    "    AS annual_churn,\n",
    "1.0-POWER(1.0-n_churn::float/n_start::float, (365.0/12.0) / (end_date-start_date)::float)\n",
    "    AS monthly_churn\n",
    "FROM start_count, churn_count, date_range\n",
    "'''"
   ]
  },
  {
   "cell_type": "code",
   "execution_count": 206,
   "metadata": {},
   "outputs": [
    {
     "data": {
      "text/html": [
       "<div>\n",
       "<style scoped>\n",
       "    .dataframe tbody tr th:only-of-type {\n",
       "        vertical-align: middle;\n",
       "    }\n",
       "\n",
       "    .dataframe tbody tr th {\n",
       "        vertical-align: top;\n",
       "    }\n",
       "\n",
       "    .dataframe thead th {\n",
       "        text-align: right;\n",
       "    }\n",
       "</style>\n",
       "<table border=\"1\" class=\"dataframe\">\n",
       "  <thead>\n",
       "    <tr style=\"text-align: right;\">\n",
       "      <th></th>\n",
       "      <th>n_start</th>\n",
       "      <th>n_churn</th>\n",
       "      <th>measured_churn</th>\n",
       "      <th>period_days</th>\n",
       "      <th>annual_churn</th>\n",
       "      <th>monthly_churn</th>\n",
       "    </tr>\n",
       "  </thead>\n",
       "  <tbody>\n",
       "    <tr>\n",
       "      <th>0</th>\n",
       "      <td>10301</td>\n",
       "      <td>1397</td>\n",
       "      <td>0.135618</td>\n",
       "      <td>92</td>\n",
       "      <td>0.439098</td>\n",
       "      <td>0.047042</td>\n",
       "    </tr>\n",
       "  </tbody>\n",
       "</table>\n",
       "</div>"
      ],
      "text/plain": [
       "   n_start  n_churn  measured_churn  period_days  annual_churn  monthly_churn\n",
       "0    10301     1397        0.135618           92      0.439098       0.047042"
      ]
     },
     "execution_count": 206,
     "metadata": {},
     "output_type": "execute_result"
    }
   ],
   "source": [
    "pd.read_sql(stmt, con=engine)"
   ]
  },
  {
   "cell_type": "markdown",
   "metadata": {},
   "source": [
    "### Picking a measurement window"
   ]
  },
  {
   "cell_type": "markdown",
   "metadata": {},
   "source": [
    "Baseline churn rates should be measured for the same time windows as the time between billing cycles. If the churn rate needs to be scaled further, then we can use the formulas specified above. If the time frame for measuring churn rates is larger that of billing cycles (monthly for credit cards), then the churn rate is not including accounts that were booked and that churned between the start and end dates. This is because churn rates are calculated by looking at accounts at two specific points in time: start and end. It is important that churn rates are measured in the same time windows as billing cycles to avoid errors in the aggregations. "
   ]
  },
  {
   "cell_type": "markdown",
   "metadata": {},
   "source": [
    "### Seasonality"
   ]
  },
  {
   "cell_type": "markdown",
   "metadata": {},
   "source": [
    "If churn rates are calculated on a monthly basis, which is we we concluded we should do with credit cards in the previous section, then seasonality can also generate some issues.\n",
    "\n",
    "> *Seasonality* - variations in time series data that occur at different points of the year  \n",
    "\n",
    "It is common to observe seasonality in churn rate calculations, where the churn rate might move up and down at different points of the year. When reducing churn, the calculations should be corrected for seasonal trends. This is not a problem when calculating annual churn rates, but monthly churn rates will start showing patterns over multiple years of data. When the data has been collected for less than a year, then we are unable to make inference about seasonal patterns as they could be generated by some other exogenous shock unique to that year. To correct for this, we can use statistical time series analysis techniques, but those strategies will be customized to the specific business context. In a general sense, assuming we have at least two years of data, we can look at all accounts that were active within the last year of each date.\n",
    "\n",
    "1. Find all active accounts in year 1\n",
    "2. Find all active accounts in year 2\n",
    "3. Find all churned accounts by comparing the two pools\n",
    "4. Divide the count of churned accounts by the number of accounts in year one  \n",
    "\n",
    "This is essentially an annual churn rate calculation that does not miss any accounts that churned within the year. Calculating this for every month allows us to observe the difference in churn between each month and the same month one year before. If accounts are likely to churn and then start using the product again later, however, then it makes more sense to use regular monthly churn rates and control for seasonality using statistical techniques. We can also average monthly churn rates over specifc periods of time (quarters, semesters) and then compare those averages across different years. We can also compare a monthly churn rate to the monthly churn rate for the same month last year."
   ]
  },
  {
   "cell_type": "code",
   "execution_count": 177,
   "metadata": {},
   "outputs": [
    {
     "data": {
      "image/png": "[encoded data removed]",
      "text/plain": [
       "<Figure size 1296x432 with 1 Axes>"
      ]
     },
     "metadata": {},
     "output_type": "display_data"
    }
   ],
   "source": [
    "sns.set_style(\"whitegrid\")\n",
    "two = df[(df['account_id'] == 1) & (df['event_type_id'] == 1)]\n",
    "fig, ax = plt.subplots(figsize=[18, 6])\n",
    "g = sns.lineplot(data=two, x='event_time', y='account_id', style='account_id', hue='account_id', palette=\"Set2\", ax=ax, legend=False)\n",
    "g.set(xticks=pd.date_range(start='2020-01-01', periods=6, freq='M'),yticks=[], ylabel='', xlabel='Time', title='Account 1 Events', xlim=['2020-01-31', '2020-06-30'], ylim=[0.8, 1.2]) \n",
    "plt.vlines(two['event_time'], 0.95, 1.05)\n",
    "plt.axhline(1, 0, 1)\n",
    "plt.show()"
   ]
  }
 ],
 "metadata": {
  "kernelspec": {
   "display_name": "churnenv",
   "language": "python",
   "name": "churnenv"
  },
  "language_info": {
   "codemirror_mode": {
    "name": "ipython",
    "version": 3
   },
   "file_extension": ".py",
   "mimetype": "text/x-python",
   "name": "python",
   "nbconvert_exporter": "python",
   "pygments_lexer": "ipython3",
   "version": "3.8.5"
  },
  "toc-autonumbering": true,
  "toc-showcode": false,
  "toc-showmarkdowntxt": false,
  "toc-showtags": true
 },
 "nbformat": 4,
 "nbformat_minor": 4
}
