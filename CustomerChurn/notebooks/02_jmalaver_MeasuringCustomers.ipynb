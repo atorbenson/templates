{
 "cells": [
  {
   "cell_type": "markdown",
   "metadata": {},
   "source": [
    "# Measuring Customers\n",
    "Juan Malaver  \n",
    "eCapital Advisors, LLC  \n",
    "Data Science Consultant  \n",
    "jmalaver@ecapitaladvisors.com"
   ]
  },
  {
   "cell_type": "markdown",
   "metadata": {},
   "source": [
    "Data that records interactions between a customer and a product are often very large, which is why they're often stored in a data warehouse. We refer to these interactions as *events*.\n",
    "\n",
    "> *Event* - a record of user behavior with a timestamp  \n",
    "\n",
    "We want to use event data to generate a customer-level view of user behavior.\n",
    "\n",
    "> *Metric* - summary of user behavior with a timestamp\n",
    "\n",
    "It is important that metrics are calculated for every single customer because churn is a unique process to each one of them. We want to detect patterns in the underlying trends and observed behaviors of individual customers. We will cover some techniques that help handle event data in a general way through SQL statements. This helps streamline ETL processes and obtain summarized metrics in a computionally-effective way. Lastly, we will do some quality tests on the metrics, accounting for potential messiness in the event data.\n",
    "\n",
    "The simulated data, code, and ideas in this notebook are inspired by Carl Gold's book ***Fighting Churn With Data: Science and strategy for keeping your customers***."
   ]
  },
  {
   "cell_type": "markdown",
   "metadata": {},
   "source": [
    "### Data Import and Packages"
   ]
  },
  {
   "cell_type": "code",
   "execution_count": 1,
   "metadata": {},
   "outputs": [],
   "source": [
    "import numpy as np\n",
    "import pandas as pd\n",
    "import matplotlib.pyplot as plt\n",
    "import seaborn as sns\n",
    "%matplotlib inline\n",
    "sns.set()"
   ]
  },
  {
   "cell_type": "code",
   "execution_count": 2,
   "metadata": {},
   "outputs": [],
   "source": [
    "%run '../credentials/settings.py'\n",
    "import os\n",
    "\n",
    "# obtaining credentials (stored as environmental variables in .env file)\n",
    "USER = os.getenv('CHURN_DB_USER')\n",
    "PASS = os.getenv('CHURN_DB_PASS')\n",
    "IP = os.getenv('CHURN_DB_IP')\n",
    "PORT = os.getenv('CHURN_DB_PORT')\n",
    "DB = os.getenv('CHURN_DB_NAME')"
   ]
  },
  {
   "cell_type": "code",
   "execution_count": 3,
   "metadata": {},
   "outputs": [
    {
     "name": "stdout",
     "output_type": "stream",
     "text": [
      "['event', 'subscription', 'event_type', 'metric', 'metric_name', 'active_period', 'observation', 'active_week', 'account']\n"
     ]
    }
   ],
   "source": [
    "from sqlalchemy import create_engine\n",
    "\n",
    "# SQL engine and connection\n",
    "engine = create_engine('postgresql+psycopg2://{}:{}@{}:{}/{}'.format(USER, PASS, IP, PORT, DB))\n",
    "connection = engine.connect()\n",
    "\n",
    "# printing table names\n",
    "print(engine.table_names(schema='churnsim'))"
   ]
  },
  {
   "cell_type": "markdown",
   "metadata": {},
   "source": [
    "## Events"
   ]
  },
  {
   "cell_type": "markdown",
   "metadata": {},
   "source": [
    "Continuing with the credit card example, we can think of customer events as single transactions that are recorded on the account. There are various types of transactions: cash, merchandise, deposit, etc. We will plot one kind of event for two accounts and compare."
   ]
  },
  {
   "cell_type": "code",
   "execution_count": 4,
   "metadata": {},
   "outputs": [
    {
     "data": {
      "image/png": "[encoded data removed]",
      "text/plain": [
       "<Figure size 1296x864 with 2 Axes>"
      ]
     },
     "metadata": {},
     "output_type": "display_data"
    }
   ],
   "source": [
    "sns.set_style(\"whitegrid\")\n",
    "sns.set_context(\"notebook\")\n",
    "two = pd.read_sql('SELECT * FROM churnsim.event e WHERE e.event_type_id=1 AND e.account_id<3', con=engine)\n",
    "fig, ax = plt.subplots(2, 1, figsize=[18, 12], sharex=True)\n",
    "for i in range(2):\n",
    "    g = sns.lineplot(data=two, x='event_time', y='account_id', style='account_id', hue='account_id', palette=\"Set2\", ax=ax[i], legend=False)\n",
    "    g.set(xticks=pd.date_range(start='2020-01-01', periods=6, freq='M'),yticks=[], ylabel='', xlabel='Time', title='Account {} Events'.format(i+1), xlim=['2020-01-31', '2020-06-30'], ylim=[i+0.8, i+1.2]) \n",
    "    ax[i].vlines(two[two['account_id']==i+1]['event_time'], i+0.95, i+1.05)\n",
    "    ax[i].axhline(i+1, 0, 1)\n",
    "\n",
    "plt.show()\n",
    "fig.savefig('../reports/figures/events.png')"
   ]
  },
  {
   "cell_type": "markdown",
   "metadata": {},
   "source": [
    "We chose a *time period* in which we will derive a churn metric.\n",
    "\n",
    "> *Time window* - period of time in which all events that are occur are considered in a churn metric calculation\n",
    "\n",
    "We can summarize behavior within each time window in a variety of ways. We will start simple and move on to more complex metrics. "
   ]
  },
  {
   "cell_type": "markdown",
   "metadata": {},
   "source": [
    "## Event Data"
   ]
  },
  {
   "cell_type": "markdown",
   "metadata": {},
   "source": [
    "We will assume that event data is always stored in a transactional SQL database, which is almost always the case when event data occupies a lot of space. The key fields in an event data schema are as follows:\n",
    "\n",
    "| Column | Data type |\n",
    "| ----------- | ----------- |\n",
    "| account_id | int |\n",
    "| event_type_id | int |\n",
    "| event_time | timestamp |  \n",
    "\n",
    "This is more or less a *fact table* that does not require numeric data fields for individual events (though if they do exist they can be helpful for subsequent analysis). At a specific point in time `event_time`, a specifc customer `account_id` interacts with the product in a specifc way `event_type_id`."
   ]
  },
  {
   "cell_type": "markdown",
   "metadata": {},
   "source": [
    "## Counting Events"
   ]
  },
  {
   "cell_type": "markdown",
   "metadata": {},
   "source": [
    "Using SQL logic, we can count the number of events in a specific time period. Time periods are fixed intervals that do not overlap.\n",
    "\n",
    "1. Set a date for metric\n",
    "2. Select all events in time period\n",
    "3. Count all events for each account"
   ]
  },
  {
   "cell_type": "code",
   "execution_count": 5,
   "metadata": {},
   "outputs": [],
   "source": [
    "stmt = '''\n",
    "-- CTE for measurement date\n",
    "WITH calc_date AS (\n",
    "    SELECT '2020-05-06'::timestamp AS the_date\n",
    ")\n",
    "-- account, date, and count\n",
    "SELECT account_id, COUNT(*) AS n_event_type0\n",
    "FROM churnsim.event e INNER JOIN calc_date d ON\n",
    "    -- period in which measurement is made\n",
    "    e.event_time <= d.the_date\n",
    "    AND e.event_time > d.the_date - INTERVAL '28 day'\n",
    "-- filtering for specific event\n",
    "WHERE e.event_type_id=0\n",
    "-- one metric per account\n",
    "GROUP BY account_id;\n",
    "'''"
   ]
  },
  {
   "cell_type": "code",
   "execution_count": 6,
   "metadata": {},
   "outputs": [
    {
     "data": {
      "text/html": [
       "<div>\n",
       "<style scoped>\n",
       "    .dataframe tbody tr th:only-of-type {\n",
       "        vertical-align: middle;\n",
       "    }\n",
       "\n",
       "    .dataframe tbody tr th {\n",
       "        vertical-align: top;\n",
       "    }\n",
       "\n",
       "    .dataframe thead th {\n",
       "        text-align: right;\n",
       "    }\n",
       "</style>\n",
       "<table border=\"1\" class=\"dataframe\">\n",
       "  <thead>\n",
       "    <tr style=\"text-align: right;\">\n",
       "      <th></th>\n",
       "      <th>account_id</th>\n",
       "      <th>n_event_type0</th>\n",
       "    </tr>\n",
       "  </thead>\n",
       "  <tbody>\n",
       "    <tr>\n",
       "      <th>0</th>\n",
       "      <td>1</td>\n",
       "      <td>145</td>\n",
       "    </tr>\n",
       "    <tr>\n",
       "      <th>1</th>\n",
       "      <td>2</td>\n",
       "      <td>35</td>\n",
       "    </tr>\n",
       "    <tr>\n",
       "      <th>2</th>\n",
       "      <td>3</td>\n",
       "      <td>4</td>\n",
       "    </tr>\n",
       "    <tr>\n",
       "      <th>3</th>\n",
       "      <td>5</td>\n",
       "      <td>72</td>\n",
       "    </tr>\n",
       "    <tr>\n",
       "      <th>4</th>\n",
       "      <td>6</td>\n",
       "      <td>7</td>\n",
       "    </tr>\n",
       "    <tr>\n",
       "      <th>...</th>\n",
       "      <td>...</td>\n",
       "      <td>...</td>\n",
       "    </tr>\n",
       "    <tr>\n",
       "      <th>11728</th>\n",
       "      <td>14602</td>\n",
       "      <td>9</td>\n",
       "    </tr>\n",
       "    <tr>\n",
       "      <th>11729</th>\n",
       "      <td>14604</td>\n",
       "      <td>2</td>\n",
       "    </tr>\n",
       "    <tr>\n",
       "      <th>11730</th>\n",
       "      <td>14605</td>\n",
       "      <td>2</td>\n",
       "    </tr>\n",
       "    <tr>\n",
       "      <th>11731</th>\n",
       "      <td>14612</td>\n",
       "      <td>1</td>\n",
       "    </tr>\n",
       "    <tr>\n",
       "      <th>11732</th>\n",
       "      <td>14632</td>\n",
       "      <td>3</td>\n",
       "    </tr>\n",
       "  </tbody>\n",
       "</table>\n",
       "<p>11733 rows × 2 columns</p>\n",
       "</div>"
      ],
      "text/plain": [
       "       account_id  n_event_type0\n",
       "0               1            145\n",
       "1               2             35\n",
       "2               3              4\n",
       "3               5             72\n",
       "4               6              7\n",
       "...           ...            ...\n",
       "11728       14602              9\n",
       "11729       14604              2\n",
       "11730       14605              2\n",
       "11731       14612              1\n",
       "11732       14632              3\n",
       "\n",
       "[11733 rows x 2 columns]"
      ]
     },
     "execution_count": 6,
     "metadata": {},
     "output_type": "execute_result"
    }
   ],
   "source": [
    "pd.read_sql(stmt, con=engine)"
   ]
  },
  {
   "cell_type": "markdown",
   "metadata": {},
   "source": [
    "## Metric Periods"
   ]
  },
  {
   "cell_type": "markdown",
   "metadata": {},
   "source": [
    "### Weekly cycles"
   ]
  },
  {
   "cell_type": "markdown",
   "metadata": {},
   "source": [
    "Calculating metrics over fixed intervals as opposed to conventional time windows like calendar months is a strategy that accounts for variation within weeks. Regardless of the product, customers tend to follow a weekly behavioral cycle in their interactions. For credit cards, one would expect most activity to be on the weekends, when people have more time to spend money on leisure activites. We want to capture the same number of weekends everytime we generate a behavioral metric. If we capture more high-usage weekends in one measurement, then we will artificially inflate the event count for that time period metric. We might think that for that specific time period, usage was higher, but it was instead because the time windows for the different measurements were not even. We will plot the time series variation to visualize this concept."
   ]
  },
  {
   "cell_type": "code",
   "execution_count": 7,
   "metadata": {},
   "outputs": [
    {
     "data": {
      "image/png": "[encoded data removed]",
      "text/plain": [
       "<Figure size 1152x648 with 1 Axes>"
      ]
     },
     "metadata": {},
     "output_type": "display_data"
    }
   ],
   "source": [
    "count = pd.read_sql('SELECT DATE(event_time), COUNT(*) AS n_event_type0 FROM churnsim.event e WHERE e.event_type_id=0 GROUP BY DATE(event_time)', con=engine)\n",
    "sns.set_context('notebook')\n",
    "fig, ax = plt.subplots(figsize=(16, 9))\n",
    "g = sns.lineplot(data=count, x='date', y='n_event_type0')\n",
    "g.set(xlim=['2020-02-01','2020-06-01'], ylim=[10000, 25000], xlabel='Time', ylabel='Event Type 0 Count')\n",
    "plt.show()\n",
    "fig.savefig('../reports/figures/dailycount.png')"
   ]
  },
  {
   "cell_type": "markdown",
   "metadata": {},
   "source": [
    "### Working with timestamps"
   ]
  },
  {
   "cell_type": "markdown",
   "metadata": {},
   "source": [
    "> *Timestamp* - date and time corresponding to an individual event and used to represent a metric  \n",
    "\n",
    "The timestamp for a metric represents the time window domain of the metric calculation. We timestamp metrics by the next date after the measurement period ends (i.e. midnight on the next day after the time window). Having fixed timestamps for metrics is useful when we calculate several metrics, as we will be able to compare them if they correspond to the same time period. Four-week time windows and timestamping metrics as the immediate day after is an important decision in the metric design process, and it helps us keep our data tidy."
   ]
  },
  {
   "cell_type": "markdown",
   "metadata": {},
   "source": [
    "## Metrics Across Time"
   ]
  },
  {
   "cell_type": "markdown",
   "metadata": {},
   "source": [
    "We will be generating metrics for each customer at different points in time to understand changes in their behavior and identify patterns related to churn."
   ]
  },
  {
   "cell_type": "markdown",
   "metadata": {},
   "source": [
    "### Overlapping windows"
   ]
  },
  {
   "cell_type": "markdown",
   "metadata": {},
   "source": [
    "We will be calculating the same metric multiple times at different points of a customer's lifespan. Just because the metric is calculated on four-week intervals does not mean that we have to wait four weeks before calculating a metric. Instead, we can calculate the four-week metric every week, creating a moving time window in which we are calculating our metric. Each event is this counted four times, one in each different four-week metric that includes the week when the event occured. That is, everytime we calculate the metric, we define start and end dates for a specific time window. If the event falls between those dates, it counts towards the metric calculation."
   ]
  },
  {
   "cell_type": "code",
   "execution_count": 8,
   "metadata": {},
   "outputs": [
    {
     "data": {
      "image/png": "[encoded data removed]",
      "text/plain": [
       "<Figure size 1296x432 with 1 Axes>"
      ]
     },
     "metadata": {},
     "output_type": "display_data"
    }
   ],
   "source": [
    "sns.set_style(\"whitegrid\")\n",
    "sns.set_context(\"notebook\")\n",
    "two = pd.read_sql('SELECT * FROM churnsim.event e WHERE e.event_type_id=1 AND e.account_id<3', con=engine)\n",
    "fig, ax = plt.subplots(figsize=[18, 6])\n",
    "i=0\n",
    "g = sns.lineplot(data=two, x='event_time', y='account_id', style='account_id', hue='account_id', palette=\"Set2\", ax=ax, legend=False)\n",
    "g.set(xticks=pd.date_range(start='2020-01-01', periods=6, freq='4w'),yticks=[], ylabel='', xlabel='Time', title='Account {} Overlapping Time Windows'.format(i+1),\n",
    "      xlim=['2020-01-31', '2020-06-30'], ylim=[i+0.8, i+1.2]) \n",
    "ax.vlines(two[two['account_id']==i+1]['event_time'], i+0.95, i+1.05)\n",
    "ax.vlines(pd.date_range(start='2020-01-01', end='2020-07-01', freq='w'), 0.5, 1.5, linestyle='dashed', color='tab:green')\n",
    "ax.axhline(i+1, 0, 1)\n",
    "\n",
    "plt.show()\n",
    "fig.savefig('../reports/figures/movingwindow.png')"
   ]
  },
  {
   "cell_type": "markdown",
   "metadata": {},
   "source": [
    "We can use SQL logic to generate these metrics from an event database.\n",
    "\n",
    "1. Choose date sequence for measurement\n",
    "2. Select events for each date in measurement date sequence\n",
    "3. Count all events grouping by account and measurement date"
   ]
  },
  {
   "cell_type": "code",
   "execution_count": 9,
   "metadata": {},
   "outputs": [],
   "source": [
    "stmt='''\n",
    "-- CTE for end dates of time windows\n",
    "WITH date_vals AS (\n",
    "    SELECT i::timestamp AS metric_date\n",
    "    FROM generate_series('2020-01-29', '2020-04-16',\n",
    "    '7 day'::interval) i\n",
    ")\n",
    "-- account, time, and metric\n",
    "SELECT account_id, metric_date, COUNT(*)\n",
    "    AS n_event_type0_per_month\n",
    "FROM churnsim.event e INNER JOIN date_vals d\n",
    "    ON e.event_time < metric_date\n",
    "    AND e.event_time >= metric_date - INTERVAL '28 day'\n",
    "WHERE e.event_type_id=0\n",
    "GROUP BY account_id, metric_date\n",
    "ORDER BY account_id, metric_date\n",
    "'''"
   ]
  },
  {
   "cell_type": "code",
   "execution_count": 10,
   "metadata": {},
   "outputs": [
    {
     "data": {
      "text/html": [
       "<div>\n",
       "<style scoped>\n",
       "    .dataframe tbody tr th:only-of-type {\n",
       "        vertical-align: middle;\n",
       "    }\n",
       "\n",
       "    .dataframe tbody tr th {\n",
       "        vertical-align: top;\n",
       "    }\n",
       "\n",
       "    .dataframe thead th {\n",
       "        text-align: right;\n",
       "    }\n",
       "</style>\n",
       "<table border=\"1\" class=\"dataframe\">\n",
       "  <thead>\n",
       "    <tr style=\"text-align: right;\">\n",
       "      <th></th>\n",
       "      <th>account_id</th>\n",
       "      <th>metric_date</th>\n",
       "      <th>n_event_type0_per_month</th>\n",
       "    </tr>\n",
       "  </thead>\n",
       "  <tbody>\n",
       "    <tr>\n",
       "      <th>0</th>\n",
       "      <td>1</td>\n",
       "      <td>2020-02-05</td>\n",
       "      <td>27</td>\n",
       "    </tr>\n",
       "    <tr>\n",
       "      <th>1</th>\n",
       "      <td>1</td>\n",
       "      <td>2020-02-12</td>\n",
       "      <td>69</td>\n",
       "    </tr>\n",
       "    <tr>\n",
       "      <th>2</th>\n",
       "      <td>1</td>\n",
       "      <td>2020-02-19</td>\n",
       "      <td>103</td>\n",
       "    </tr>\n",
       "    <tr>\n",
       "      <th>3</th>\n",
       "      <td>1</td>\n",
       "      <td>2020-02-26</td>\n",
       "      <td>140</td>\n",
       "    </tr>\n",
       "    <tr>\n",
       "      <th>4</th>\n",
       "      <td>1</td>\n",
       "      <td>2020-03-04</td>\n",
       "      <td>137</td>\n",
       "    </tr>\n",
       "    <tr>\n",
       "      <th>...</th>\n",
       "      <td>...</td>\n",
       "      <td>...</td>\n",
       "      <td>...</td>\n",
       "    </tr>\n",
       "    <tr>\n",
       "      <th>124925</th>\n",
       "      <td>13307</td>\n",
       "      <td>2020-04-15</td>\n",
       "      <td>1</td>\n",
       "    </tr>\n",
       "    <tr>\n",
       "      <th>124926</th>\n",
       "      <td>13308</td>\n",
       "      <td>2020-04-08</td>\n",
       "      <td>2</td>\n",
       "    </tr>\n",
       "    <tr>\n",
       "      <th>124927</th>\n",
       "      <td>13308</td>\n",
       "      <td>2020-04-15</td>\n",
       "      <td>13</td>\n",
       "    </tr>\n",
       "    <tr>\n",
       "      <th>124928</th>\n",
       "      <td>13310</td>\n",
       "      <td>2020-04-08</td>\n",
       "      <td>99</td>\n",
       "    </tr>\n",
       "    <tr>\n",
       "      <th>124929</th>\n",
       "      <td>13310</td>\n",
       "      <td>2020-04-15</td>\n",
       "      <td>206</td>\n",
       "    </tr>\n",
       "  </tbody>\n",
       "</table>\n",
       "<p>124930 rows × 3 columns</p>\n",
       "</div>"
      ],
      "text/plain": [
       "        account_id metric_date  n_event_type0_per_month\n",
       "0                1  2020-02-05                       27\n",
       "1                1  2020-02-12                       69\n",
       "2                1  2020-02-19                      103\n",
       "3                1  2020-02-26                      140\n",
       "4                1  2020-03-04                      137\n",
       "...            ...         ...                      ...\n",
       "124925       13307  2020-04-15                        1\n",
       "124926       13308  2020-04-08                        2\n",
       "124927       13308  2020-04-15                       13\n",
       "124928       13310  2020-04-08                       99\n",
       "124929       13310  2020-04-15                      206\n",
       "\n",
       "[124930 rows x 3 columns]"
      ]
     },
     "execution_count": 10,
     "metadata": {},
     "output_type": "execute_result"
    }
   ],
   "source": [
    "pd.read_sql(stmt, con=engine)"
   ]
  },
  {
   "cell_type": "markdown",
   "metadata": {},
   "source": [
    "### Timing"
   ]
  },
  {
   "cell_type": "markdown",
   "metadata": {},
   "source": [
    "The frequency with which we update metrics depends on the typical lifespan of a customer. If customers usually churn after a few months, then we might want to update the metric every day. Likewise, if customers usually churn after multiple years, we might want to udpate the metric every month. The dynamic of each churn scenario is unique and will drive the decision of choosing an appropriate time window. Also, if we think that people use credit cards, for example, mostly on the weekends, then we will want to calculate the metric every Monday so that we capture the activity on the most recent weekend."
   ]
  },
  {
   "cell_type": "markdown",
   "metadata": {},
   "source": [
    "### Saving metrics"
   ]
  },
  {
   "cell_type": "markdown",
   "metadata": {},
   "source": [
    "We will want to create a materialized view in the data warehouse that captures all metric calculations, as this table will be necessary for subsequent analysis. This schema will have the following structure:\n",
    "\n",
    "| Column | Data type |\n",
    "| ----------- | ----------- |\n",
    "| account_id | int |\n",
    "| metric_name_id | int |\n",
    "| metric_time | timestamp | \n",
    "| value | float |  \n",
    "\n",
    "where the first three fields make up a composite key for the table. Here is a brief summary of the fields:\n",
    "\n",
    "- `account_id` - identifies individual accounts\n",
    "- `metric_name_id` - defines metric type\n",
    "- `metric_time` - metric timestamp\n",
    "- `value` - numeric value of metric"
   ]
  },
  {
   "cell_type": "code",
   "execution_count": 18,
   "metadata": {},
   "outputs": [],
   "source": [
    "stmt = '''\n",
    "-- CTE with dates for calculation\n",
    "WITH date_vals AS (\n",
    "    SELECT i::timestamp AS metric_date\n",
    "    FROM generate_series('2020-01-29', '2020-04-16', '7 day'::interval) i\n",
    ")\n",
    "-- account, metric id, metric time, and metric value\n",
    "SELECT account_id, metric_date, event_type_id AS metric_name_id,\n",
    "    COUNT(*) AS metric_value\n",
    "FROM churnsim.event e INNER JOIN date_vals d\n",
    "    ON e.event_time < metric_date\n",
    "    AND e.event_time >= metric_date - INTERVAL '28 day'\n",
    "GROUP BY account_id, metric_date, metric_name_id\n",
    "ORDER BY account_id, metric_date, metric_name_id; \n",
    "'''"
   ]
  },
  {
   "cell_type": "code",
   "execution_count": 19,
   "metadata": {},
   "outputs": [
    {
     "data": {
      "text/html": [
       "<div>\n",
       "<style scoped>\n",
       "    .dataframe tbody tr th:only-of-type {\n",
       "        vertical-align: middle;\n",
       "    }\n",
       "\n",
       "    .dataframe tbody tr th {\n",
       "        vertical-align: top;\n",
       "    }\n",
       "\n",
       "    .dataframe thead th {\n",
       "        text-align: right;\n",
       "    }\n",
       "</style>\n",
       "<table border=\"1\" class=\"dataframe\">\n",
       "  <thead>\n",
       "    <tr style=\"text-align: right;\">\n",
       "      <th></th>\n",
       "      <th>account_id</th>\n",
       "      <th>metric_date</th>\n",
       "      <th>metric_name_id</th>\n",
       "      <th>metric_value</th>\n",
       "    </tr>\n",
       "  </thead>\n",
       "  <tbody>\n",
       "    <tr>\n",
       "      <th>0</th>\n",
       "      <td>1</td>\n",
       "      <td>2020-02-05</td>\n",
       "      <td>0</td>\n",
       "      <td>27</td>\n",
       "    </tr>\n",
       "    <tr>\n",
       "      <th>1</th>\n",
       "      <td>1</td>\n",
       "      <td>2020-02-05</td>\n",
       "      <td>1</td>\n",
       "      <td>2</td>\n",
       "    </tr>\n",
       "    <tr>\n",
       "      <th>2</th>\n",
       "      <td>1</td>\n",
       "      <td>2020-02-05</td>\n",
       "      <td>2</td>\n",
       "      <td>73</td>\n",
       "    </tr>\n",
       "    <tr>\n",
       "      <th>3</th>\n",
       "      <td>1</td>\n",
       "      <td>2020-02-05</td>\n",
       "      <td>3</td>\n",
       "      <td>39</td>\n",
       "    </tr>\n",
       "    <tr>\n",
       "      <th>4</th>\n",
       "      <td>1</td>\n",
       "      <td>2020-02-05</td>\n",
       "      <td>4</td>\n",
       "      <td>5</td>\n",
       "    </tr>\n",
       "    <tr>\n",
       "      <th>...</th>\n",
       "      <td>...</td>\n",
       "      <td>...</td>\n",
       "      <td>...</td>\n",
       "      <td>...</td>\n",
       "    </tr>\n",
       "    <tr>\n",
       "      <th>872105</th>\n",
       "      <td>13310</td>\n",
       "      <td>2020-04-15</td>\n",
       "      <td>2</td>\n",
       "      <td>95</td>\n",
       "    </tr>\n",
       "    <tr>\n",
       "      <th>872106</th>\n",
       "      <td>13310</td>\n",
       "      <td>2020-04-15</td>\n",
       "      <td>3</td>\n",
       "      <td>53</td>\n",
       "    </tr>\n",
       "    <tr>\n",
       "      <th>872107</th>\n",
       "      <td>13310</td>\n",
       "      <td>2020-04-15</td>\n",
       "      <td>4</td>\n",
       "      <td>8</td>\n",
       "    </tr>\n",
       "    <tr>\n",
       "      <th>872108</th>\n",
       "      <td>13310</td>\n",
       "      <td>2020-04-15</td>\n",
       "      <td>5</td>\n",
       "      <td>1</td>\n",
       "    </tr>\n",
       "    <tr>\n",
       "      <th>872109</th>\n",
       "      <td>13310</td>\n",
       "      <td>2020-04-15</td>\n",
       "      <td>6</td>\n",
       "      <td>3</td>\n",
       "    </tr>\n",
       "  </tbody>\n",
       "</table>\n",
       "<p>872110 rows × 4 columns</p>\n",
       "</div>"
      ],
      "text/plain": [
       "        account_id metric_date  metric_name_id  metric_value\n",
       "0                1  2020-02-05               0            27\n",
       "1                1  2020-02-05               1             2\n",
       "2                1  2020-02-05               2            73\n",
       "3                1  2020-02-05               3            39\n",
       "4                1  2020-02-05               4             5\n",
       "...            ...         ...             ...           ...\n",
       "872105       13310  2020-04-15               2            95\n",
       "872106       13310  2020-04-15               3            53\n",
       "872107       13310  2020-04-15               4             8\n",
       "872108       13310  2020-04-15               5             1\n",
       "872109       13310  2020-04-15               6             3\n",
       "\n",
       "[872110 rows x 4 columns]"
      ]
     },
     "execution_count": 19,
     "metadata": {},
     "output_type": "execute_result"
    }
   ],
   "source": [
    "pd.read_sql(stmt, con=engine)"
   ]
  },
  {
   "cell_type": "markdown",
   "metadata": {},
   "source": [
    "## Totals and Averages"
   ]
  },
  {
   "cell_type": "markdown",
   "metadata": {},
   "source": [
    "When events have some sort of numerical value associate with it, like credit card transactions have dollar and cent amounts, we can generate additional metrics for various event types. The two most common ways to do this are:\n",
    "\n",
    "- Total value of all events\n",
    "- Average value for each event  \n",
    "\n",
    "We can use SQL logic to calculate these total value of all events:\n",
    "\n",
    "1. Choose date sequence for measurement\n",
    "2. For each date in sequence, select associated events\n",
    "3. Sum the event value field after grouping by account, date and event type  \n",
    "\n",
    "Keep in mind that the data field which we will use for these aggregations is simply a value associated with each event. This could easily be replaced with a dollar amount field in the context of credit card transactions. We can also calculate averages by changing the SQL aggregating function."
   ]
  },
  {
   "cell_type": "code",
   "execution_count": 13,
   "metadata": {},
   "outputs": [],
   "source": [
    "stmt = '''\n",
    "-- CTE with date sequence\n",
    "WITH date_vals AS (\n",
    "    SELECT i::timestamp AS metric_date\n",
    "    FROM generate_series('2020-01-08', '2020-12-31'. '7_day'::interval) i\n",
    ")\n",
    "SELECT account_id, metric_date::date, event_type_id AS metric_name_id,\n",
    "    SUM(event_value) AS total_value,\n",
    "    AVG(event_value) AS avg_value\n",
    "FROM churnsim.event e INNER JOIN date_vals d\n",
    "    ON e.event_time < metric_date\n",
    "    AND e.event_time >= metric_date - INTERVAL '28 day'\n",
    "GROUP BY account_id, metric_date, metric_name_id\n",
    "ORDER BY account_id, metric_date, metric_name_id;\n",
    "'''"
   ]
  },
  {
   "cell_type": "markdown",
   "metadata": {},
   "source": [
    "## Quality Assurance"
   ]
  },
  {
   "cell_type": "markdown",
   "metadata": {},
   "source": [
    "After calculating metrics, we will want to take an additional step to validate our results. We output a few rows from the resulting tables in previous sections, but that is not enough to assure that the metric has been properly calculated. We want to identify issues with missing or messy data that might be impacting our derivations."
   ]
  },
  {
   "cell_type": "markdown",
   "metadata": {},
   "source": [
    "### Time-series statistics"
   ]
  },
  {
   "cell_type": "markdown",
   "metadata": {},
   "source": [
    "We can look at how various descriptive statistics of a metric change over time. If we observe anything unusual, then we will know where to look. We can generate this statistical table with the following SQL logic:\n",
    "\n",
    "1. Set date sequence to check\n",
    "2. Define metric to be tested\n",
    "3. Calculate results with outer join"
   ]
  },
  {
   "cell_type": "code",
   "execution_count": 38,
   "metadata": {},
   "outputs": [],
   "source": [
    "stmt = '''\n",
    "-- CTE with date sequence\n",
    "WITH date_range AS (\n",
    "    SELECT i::timestamp AS calc_date\n",
    "    FROM generate_series('2020-02-05', '2020-05-06', '7 day'::interval) i \n",
    "),\n",
    "-- CTE with selected metric\n",
    "the_metric AS (\n",
    "    SELECT * from churnsim.metric m\n",
    "    WHERE m.metric_name_id=0\n",
    ")\n",
    "SELECT calc_date, AVG(metric_value), COUNT(the_metric.*) AS n_calc,\n",
    "    MIN(metric_value), MAX(metric_value)\n",
    "-- left outer join returns result for every day\n",
    "FROM date_range LEFT OUTER JOIN the_metric\n",
    "    ON calc_date=metric_time\n",
    "GROUP BY calc_date\n",
    "ORDER BY calc_date\n",
    "'''"
   ]
  },
  {
   "cell_type": "code",
   "execution_count": 40,
   "metadata": {},
   "outputs": [
    {
     "data": {
      "text/html": [
       "<div>\n",
       "<style scoped>\n",
       "    .dataframe tbody tr th:only-of-type {\n",
       "        vertical-align: middle;\n",
       "    }\n",
       "\n",
       "    .dataframe tbody tr th {\n",
       "        vertical-align: top;\n",
       "    }\n",
       "\n",
       "    .dataframe thead th {\n",
       "        text-align: right;\n",
       "    }\n",
       "</style>\n",
       "<table border=\"1\" class=\"dataframe\">\n",
       "  <thead>\n",
       "    <tr style=\"text-align: right;\">\n",
       "      <th></th>\n",
       "      <th>calc_date</th>\n",
       "      <th>avg</th>\n",
       "      <th>n_calc</th>\n",
       "      <th>min</th>\n",
       "      <th>max</th>\n",
       "    </tr>\n",
       "  </thead>\n",
       "  <tbody>\n",
       "    <tr>\n",
       "      <th>0</th>\n",
       "      <td>2020-02-05</td>\n",
       "      <td>30.769919</td>\n",
       "      <td>9614</td>\n",
       "      <td>1.0</td>\n",
       "      <td>1043.0</td>\n",
       "    </tr>\n",
       "    <tr>\n",
       "      <th>1</th>\n",
       "      <td>2020-02-12</td>\n",
       "      <td>36.634719</td>\n",
       "      <td>10006</td>\n",
       "      <td>1.0</td>\n",
       "      <td>1488.0</td>\n",
       "    </tr>\n",
       "    <tr>\n",
       "      <th>2</th>\n",
       "      <td>2020-02-19</td>\n",
       "      <td>40.558918</td>\n",
       "      <td>10277</td>\n",
       "      <td>1.0</td>\n",
       "      <td>1763.0</td>\n",
       "    </tr>\n",
       "    <tr>\n",
       "      <th>3</th>\n",
       "      <td>2020-02-26</td>\n",
       "      <td>42.112722</td>\n",
       "      <td>10486</td>\n",
       "      <td>1.0</td>\n",
       "      <td>1766.0</td>\n",
       "    </tr>\n",
       "    <tr>\n",
       "      <th>4</th>\n",
       "      <td>2020-03-04</td>\n",
       "      <td>42.321000</td>\n",
       "      <td>10595</td>\n",
       "      <td>1.0</td>\n",
       "      <td>1783.0</td>\n",
       "    </tr>\n",
       "    <tr>\n",
       "      <th>5</th>\n",
       "      <td>2020-03-11</td>\n",
       "      <td>42.014467</td>\n",
       "      <td>10714</td>\n",
       "      <td>1.0</td>\n",
       "      <td>1738.0</td>\n",
       "    </tr>\n",
       "    <tr>\n",
       "      <th>6</th>\n",
       "      <td>2020-03-18</td>\n",
       "      <td>41.920551</td>\n",
       "      <td>10812</td>\n",
       "      <td>1.0</td>\n",
       "      <td>1717.0</td>\n",
       "    </tr>\n",
       "    <tr>\n",
       "      <th>7</th>\n",
       "      <td>2020-03-25</td>\n",
       "      <td>42.327344</td>\n",
       "      <td>10909</td>\n",
       "      <td>1.0</td>\n",
       "      <td>1758.0</td>\n",
       "    </tr>\n",
       "    <tr>\n",
       "      <th>8</th>\n",
       "      <td>2020-04-01</td>\n",
       "      <td>42.782680</td>\n",
       "      <td>10947</td>\n",
       "      <td>1.0</td>\n",
       "      <td>1731.0</td>\n",
       "    </tr>\n",
       "    <tr>\n",
       "      <th>9</th>\n",
       "      <td>2020-04-08</td>\n",
       "      <td>43.366489</td>\n",
       "      <td>11089</td>\n",
       "      <td>1.0</td>\n",
       "      <td>1776.0</td>\n",
       "    </tr>\n",
       "    <tr>\n",
       "      <th>10</th>\n",
       "      <td>2020-04-15</td>\n",
       "      <td>43.299075</td>\n",
       "      <td>11238</td>\n",
       "      <td>1.0</td>\n",
       "      <td>1743.0</td>\n",
       "    </tr>\n",
       "    <tr>\n",
       "      <th>11</th>\n",
       "      <td>2020-04-22</td>\n",
       "      <td>42.968670</td>\n",
       "      <td>11395</td>\n",
       "      <td>1.0</td>\n",
       "      <td>1683.0</td>\n",
       "    </tr>\n",
       "    <tr>\n",
       "      <th>12</th>\n",
       "      <td>2020-04-29</td>\n",
       "      <td>43.244366</td>\n",
       "      <td>11581</td>\n",
       "      <td>1.0</td>\n",
       "      <td>1718.0</td>\n",
       "    </tr>\n",
       "    <tr>\n",
       "      <th>13</th>\n",
       "      <td>2020-05-06</td>\n",
       "      <td>43.336316</td>\n",
       "      <td>11733</td>\n",
       "      <td>1.0</td>\n",
       "      <td>1715.0</td>\n",
       "    </tr>\n",
       "  </tbody>\n",
       "</table>\n",
       "</div>"
      ],
      "text/plain": [
       "    calc_date        avg  n_calc  min     max\n",
       "0  2020-02-05  30.769919    9614  1.0  1043.0\n",
       "1  2020-02-12  36.634719   10006  1.0  1488.0\n",
       "2  2020-02-19  40.558918   10277  1.0  1763.0\n",
       "3  2020-02-26  42.112722   10486  1.0  1766.0\n",
       "4  2020-03-04  42.321000   10595  1.0  1783.0\n",
       "5  2020-03-11  42.014467   10714  1.0  1738.0\n",
       "6  2020-03-18  41.920551   10812  1.0  1717.0\n",
       "7  2020-03-25  42.327344   10909  1.0  1758.0\n",
       "8  2020-04-01  42.782680   10947  1.0  1731.0\n",
       "9  2020-04-08  43.366489   11089  1.0  1776.0\n",
       "10 2020-04-15  43.299075   11238  1.0  1743.0\n",
       "11 2020-04-22  42.968670   11395  1.0  1683.0\n",
       "12 2020-04-29  43.244366   11581  1.0  1718.0\n",
       "13 2020-05-06  43.336316   11733  1.0  1715.0"
      ]
     },
     "execution_count": 40,
     "metadata": {},
     "output_type": "execute_result"
    }
   ],
   "source": [
    "stats = pd.read_sql(stmt, con=engine)\n",
    "stats.to_csv('../data/interim/event0_per_month.csv', index=False)\n",
    "stats"
   ]
  },
  {
   "cell_type": "markdown",
   "metadata": {},
   "source": [
    "We want the metric table to output results even if no metric was calculated. If we produced metrics for every single day, it would be computationally expensive. We want to show where no metrics were calculated and also when bad metrics were calculated. We will know plot these metrics on graph using python functions."
   ]
  },
  {
   "cell_type": "code",
   "execution_count": 71,
   "metadata": {},
   "outputs": [],
   "source": [
    "from math import ceil\n",
    "\n",
    "# plotting function for metric statistics\n",
    "def metric_qa_plot(qa_data_path, metric_name, **kwargs):\n",
    "    # file saved using previous SQL statement\n",
    "    metric_data_path = qa_data_path + metric_name + '.csv'\n",
    "    qa_data_df=pd.read_csv(metric_data_path)\n",
    "    plt.subplots(figsize=(16, 9), sharex=True, sharey=False)\n",
    "    \n",
    "    # using helper function\n",
    "    qa_subplot(qa_data_df, 'max', 1, None)\n",
    "    plt.title(metric_name)\n",
    "    qa_subplot(qa_data_df, 'avg', 2, '--')\n",
    "    qa_subplot(qa_data_df, 'min', 3, '-.')\n",
    "    qa_subplot(qa_data_df, 'n_calc', 4, ':')\n",
    "    plt.gca().figure.autofmt_xdate()\n",
    "    plt.show()\n",
    "    \n",
    "    save_to_path=metric_data_path.replace('.csv', '.png')\n",
    "    print('Saving metric qa plot to ' + save_to_path)\n",
    "    plt.savefig(save_to_path)\n",
    "    plt.close()\n",
    "    \n",
    "# helper function for each subplot\n",
    "def qa_subplot(qa_data_df, field, number, linestyle):\n",
    "    plt.subplot(4, 1, number)\n",
    "    g = sns.lineplot(x='calc_date', y=field, data=qa_data_df, marker='',\n",
    "                     linestyle=linestyle, color='black', linewidth=2, label=field)\n",
    "    g.set(ylim=[0, ceil(1.1 * qa_data_df[field].dropna().max())])\n",
    "    plt.legend()"
   ]
  },
  {
   "cell_type": "code",
   "execution_count": 72,
   "metadata": {},
   "outputs": [
    {
     "data": {
      "image/png": "[encoded data removed]",
      "text/plain": [
       "<Figure size 1152x648 with 4 Axes>"
      ]
     },
     "metadata": {},
     "output_type": "display_data"
    },
    {
     "name": "stdout",
     "output_type": "stream",
     "text": [
      "Saving metric qa plot to ../data/interim/event0_per_month.png\n"
     ]
    }
   ],
   "source": [
    "# plotting\n",
    "metric_qa_plot('../data/interim/', 'event0_per_month')"
   ]
  },
  {
   "cell_type": "markdown",
   "metadata": {},
   "source": [
    "### Accounts with metrics"
   ]
  },
  {
   "cell_type": "markdown",
   "metadata": {},
   "source": [
    "Now we will calculate the proportion of the total population with a metric. By doing this we can get a sense of what fraction of customers are receiving a specific metric and how that proportion changes over time. The SQL logic is as follows:\n",
    "\n",
    "1. Choose time window\n",
    "2. Count all accounts active in time window\n",
    "3. Count all accounts for each metric type\n",
    "4. Divide step 3 by step 2 to get proportion of acccounts with metric\n",
    "5. Select additional metric statistics"
   ]
  },
  {
   "cell_type": "code",
   "execution_count": 81,
   "metadata": {},
   "outputs": [],
   "source": [
    "stmt = '''\n",
    "-- CTE with time window\n",
    "WITH date_range AS (\n",
    "    SELECT '2020-04-01'::timestamp AS start_date,\n",
    "        '2020-05-06'::timestamp AS end_date\n",
    "), \n",
    "-- CTE with number of acccounts\n",
    "account_count AS (\n",
    "    SELECT COUNT(DISTINCT account_id) AS n_account\n",
    "    FROM churnsim.subscription s INNER JOIN date_range d ON\n",
    "    s.start_date <= d.end_date\n",
    "    AND (s.end_date >= d.start_date OR s.end_date IS NULL)\n",
    ")\n",
    "SELECT metric_name_id,\n",
    "    COUNT(DISTINCT m.account_id) AS count_with_metric,\n",
    "    n_account AS n_account,\n",
    "    (COUNT(DISTINCT m.account_id))::float/n_account::float\n",
    "        AS pcnt_with_metric,\n",
    "    AVG(metric_value) AS avg_value,\n",
    "    MIN(metric_value) AS min_value,\n",
    "    MAX(metric_value) AS max_value,\n",
    "    MIN(metric_time) AS earliest_metric,\n",
    "    MAX(metric_time) AS last_metric\n",
    "-- cross join duplicates rows from account count\n",
    "FROM churnsim.metric m CROSS JOIN account_count\n",
    "-- limiting time period\n",
    "INNER JOIN date_range ON\n",
    "    metric_time >= start_date\n",
    "    AND metric_time <= end_date\n",
    "INNER JOIN churnsim.subscription s\n",
    "    ON s.account_id = m.account_id\n",
    "    AND s.start_date <= m.metric_time\n",
    "    AND (s.end_date >= m.metric_time OR s.end_date IS NULL)\n",
    "GROUP BY metric_name_id, n_account\n",
    "ORDER BY metric_name_id;\n",
    "'''"
   ]
  },
  {
   "cell_type": "code",
   "execution_count": 82,
   "metadata": {},
   "outputs": [
    {
     "data": {
      "text/html": [
       "<div>\n",
       "<style scoped>\n",
       "    .dataframe tbody tr th:only-of-type {\n",
       "        vertical-align: middle;\n",
       "    }\n",
       "\n",
       "    .dataframe tbody tr th {\n",
       "        vertical-align: top;\n",
       "    }\n",
       "\n",
       "    .dataframe thead th {\n",
       "        text-align: right;\n",
       "    }\n",
       "</style>\n",
       "<table border=\"1\" class=\"dataframe\">\n",
       "  <thead>\n",
       "    <tr style=\"text-align: right;\">\n",
       "      <th></th>\n",
       "      <th>metric_name_id</th>\n",
       "      <th>count_with_metric</th>\n",
       "      <th>n_account</th>\n",
       "      <th>pcnt_with_metric</th>\n",
       "      <th>avg_value</th>\n",
       "      <th>min_value</th>\n",
       "      <th>max_value</th>\n",
       "      <th>earliest_metric</th>\n",
       "      <th>last_metric</th>\n",
       "    </tr>\n",
       "  </thead>\n",
       "  <tbody>\n",
       "    <tr>\n",
       "      <th>0</th>\n",
       "      <td>0</td>\n",
       "      <td>12006</td>\n",
       "      <td>12262</td>\n",
       "      <td>0.979122</td>\n",
       "      <td>44.408718</td>\n",
       "      <td>1.0</td>\n",
       "      <td>1776.0</td>\n",
       "      <td>2020-04-01</td>\n",
       "      <td>2020-05-06</td>\n",
       "    </tr>\n",
       "    <tr>\n",
       "      <th>1</th>\n",
       "      <td>1</td>\n",
       "      <td>11490</td>\n",
       "      <td>12262</td>\n",
       "      <td>0.937041</td>\n",
       "      <td>7.699694</td>\n",
       "      <td>1.0</td>\n",
       "      <td>134.0</td>\n",
       "      <td>2020-04-01</td>\n",
       "      <td>2020-05-06</td>\n",
       "    </tr>\n",
       "    <tr>\n",
       "      <th>2</th>\n",
       "      <td>2</td>\n",
       "      <td>12130</td>\n",
       "      <td>12262</td>\n",
       "      <td>0.989235</td>\n",
       "      <td>100.294614</td>\n",
       "      <td>1.0</td>\n",
       "      <td>4956.0</td>\n",
       "      <td>2020-04-01</td>\n",
       "      <td>2020-05-06</td>\n",
       "    </tr>\n",
       "    <tr>\n",
       "      <th>3</th>\n",
       "      <td>3</td>\n",
       "      <td>12010</td>\n",
       "      <td>12262</td>\n",
       "      <td>0.979449</td>\n",
       "      <td>42.825876</td>\n",
       "      <td>1.0</td>\n",
       "      <td>1583.0</td>\n",
       "      <td>2020-04-01</td>\n",
       "      <td>2020-05-06</td>\n",
       "    </tr>\n",
       "    <tr>\n",
       "      <th>4</th>\n",
       "      <td>4</td>\n",
       "      <td>11797</td>\n",
       "      <td>12262</td>\n",
       "      <td>0.962078</td>\n",
       "      <td>16.545238</td>\n",
       "      <td>1.0</td>\n",
       "      <td>611.0</td>\n",
       "      <td>2020-04-01</td>\n",
       "      <td>2020-05-06</td>\n",
       "    </tr>\n",
       "    <tr>\n",
       "      <th>5</th>\n",
       "      <td>5</td>\n",
       "      <td>5467</td>\n",
       "      <td>12262</td>\n",
       "      <td>0.445849</td>\n",
       "      <td>1.164553</td>\n",
       "      <td>1.0</td>\n",
       "      <td>5.0</td>\n",
       "      <td>2020-04-01</td>\n",
       "      <td>2020-05-06</td>\n",
       "    </tr>\n",
       "    <tr>\n",
       "      <th>6</th>\n",
       "      <td>6</td>\n",
       "      <td>11980</td>\n",
       "      <td>12262</td>\n",
       "      <td>0.977002</td>\n",
       "      <td>62.803840</td>\n",
       "      <td>1.0</td>\n",
       "      <td>5059.0</td>\n",
       "      <td>2020-04-01</td>\n",
       "      <td>2020-05-06</td>\n",
       "    </tr>\n",
       "    <tr>\n",
       "      <th>7</th>\n",
       "      <td>7</td>\n",
       "      <td>11331</td>\n",
       "      <td>12262</td>\n",
       "      <td>0.924074</td>\n",
       "      <td>26.348861</td>\n",
       "      <td>1.0</td>\n",
       "      <td>1150.0</td>\n",
       "      <td>2020-04-01</td>\n",
       "      <td>2020-05-06</td>\n",
       "    </tr>\n",
       "  </tbody>\n",
       "</table>\n",
       "</div>"
      ],
      "text/plain": [
       "   metric_name_id  count_with_metric  n_account  pcnt_with_metric   avg_value  \\\n",
       "0               0              12006      12262          0.979122   44.408718   \n",
       "1               1              11490      12262          0.937041    7.699694   \n",
       "2               2              12130      12262          0.989235  100.294614   \n",
       "3               3              12010      12262          0.979449   42.825876   \n",
       "4               4              11797      12262          0.962078   16.545238   \n",
       "5               5               5467      12262          0.445849    1.164553   \n",
       "6               6              11980      12262          0.977002   62.803840   \n",
       "7               7              11331      12262          0.924074   26.348861   \n",
       "\n",
       "   min_value  max_value earliest_metric last_metric  \n",
       "0        1.0     1776.0      2020-04-01  2020-05-06  \n",
       "1        1.0      134.0      2020-04-01  2020-05-06  \n",
       "2        1.0     4956.0      2020-04-01  2020-05-06  \n",
       "3        1.0     1583.0      2020-04-01  2020-05-06  \n",
       "4        1.0      611.0      2020-04-01  2020-05-06  \n",
       "5        1.0        5.0      2020-04-01  2020-05-06  \n",
       "6        1.0     5059.0      2020-04-01  2020-05-06  \n",
       "7        1.0     1150.0      2020-04-01  2020-05-06  "
      ]
     },
     "execution_count": 82,
     "metadata": {},
     "output_type": "execute_result"
    }
   ],
   "source": [
    "pd.read_sql(stmt, con=engine)"
   ]
  },
  {
   "cell_type": "markdown",
   "metadata": {},
   "source": [
    "## Event Data QA"
   ]
  },
  {
   "cell_type": "markdown",
   "metadata": {},
   "source": [
    "We will know do some quality assurance tests on the event data itself. This is important as it helps in the metric design process, especially when choosing how to calculate metrics."
   ]
  },
  {
   "cell_type": "markdown",
   "metadata": {},
   "source": [
    "### Events over time"
   ]
  },
  {
   "cell_type": "markdown",
   "metadata": {},
   "source": [
    "We plotted event counts previously in a relatively informal manner. We will now formalize the approach of extracting time series for event data and creating data visualizations. In the credit card context, this would be the total number of transactions type 0 (e.g. cash transactions) each day across all accounts."
   ]
  },
  {
   "cell_type": "code",
   "execution_count": 90,
   "metadata": {},
   "outputs": [],
   "source": [
    "stmt = '''\n",
    "-- CTE with date range\n",
    "WITH date_range AS(\n",
    "    SELECT i::timestamp AS calc_date\n",
    "    FROM generate_series('2020-01-01', '2020-12-31', '1 day'::interval) i \n",
    ")\n",
    "-- event time to dates\n",
    "SELECT event_time::date as event_date,\n",
    "    -- total number of events\n",
    "    COUNT(*) AS n_event\n",
    "    -- sum event properties\n",
    "        /*, SUM(optional_field) AS total_field */\n",
    "FROM date_range LEFT OUTER JOIN churnsim.event e\n",
    "    ON calc_date=event_time::date\n",
    "WHERE e.event_type_id=0\n",
    "GROUP BY event_date\n",
    "ORDER BY event_date\n",
    "'''"
   ]
  },
  {
   "cell_type": "code",
   "execution_count": 91,
   "metadata": {},
   "outputs": [
    {
     "data": {
      "text/html": [
       "<div>\n",
       "<style scoped>\n",
       "    .dataframe tbody tr th:only-of-type {\n",
       "        vertical-align: middle;\n",
       "    }\n",
       "\n",
       "    .dataframe tbody tr th {\n",
       "        vertical-align: top;\n",
       "    }\n",
       "\n",
       "    .dataframe thead th {\n",
       "        text-align: right;\n",
       "    }\n",
       "</style>\n",
       "<table border=\"1\" class=\"dataframe\">\n",
       "  <thead>\n",
       "    <tr style=\"text-align: right;\">\n",
       "      <th></th>\n",
       "      <th>event_date</th>\n",
       "      <th>n_event</th>\n",
       "    </tr>\n",
       "  </thead>\n",
       "  <tbody>\n",
       "    <tr>\n",
       "      <th>0</th>\n",
       "      <td>2020-01-01</td>\n",
       "      <td>566</td>\n",
       "    </tr>\n",
       "    <tr>\n",
       "      <th>1</th>\n",
       "      <td>2020-01-02</td>\n",
       "      <td>939</td>\n",
       "    </tr>\n",
       "    <tr>\n",
       "      <th>2</th>\n",
       "      <td>2020-01-03</td>\n",
       "      <td>1636</td>\n",
       "    </tr>\n",
       "    <tr>\n",
       "      <th>3</th>\n",
       "      <td>2020-01-04</td>\n",
       "      <td>2160</td>\n",
       "    </tr>\n",
       "    <tr>\n",
       "      <th>4</th>\n",
       "      <td>2020-01-05</td>\n",
       "      <td>3053</td>\n",
       "    </tr>\n",
       "    <tr>\n",
       "      <th>...</th>\n",
       "      <td>...</td>\n",
       "      <td>...</td>\n",
       "    </tr>\n",
       "    <tr>\n",
       "      <th>177</th>\n",
       "      <td>2020-06-26</td>\n",
       "      <td>4081</td>\n",
       "    </tr>\n",
       "    <tr>\n",
       "      <th>178</th>\n",
       "      <td>2020-06-27</td>\n",
       "      <td>3387</td>\n",
       "    </tr>\n",
       "    <tr>\n",
       "      <th>179</th>\n",
       "      <td>2020-06-28</td>\n",
       "      <td>2816</td>\n",
       "    </tr>\n",
       "    <tr>\n",
       "      <th>180</th>\n",
       "      <td>2020-06-29</td>\n",
       "      <td>983</td>\n",
       "    </tr>\n",
       "    <tr>\n",
       "      <th>181</th>\n",
       "      <td>2020-06-30</td>\n",
       "      <td>677</td>\n",
       "    </tr>\n",
       "  </tbody>\n",
       "</table>\n",
       "<p>182 rows × 2 columns</p>\n",
       "</div>"
      ],
      "text/plain": [
       "     event_date  n_event\n",
       "0    2020-01-01      566\n",
       "1    2020-01-02      939\n",
       "2    2020-01-03     1636\n",
       "3    2020-01-04     2160\n",
       "4    2020-01-05     3053\n",
       "..          ...      ...\n",
       "177  2020-06-26     4081\n",
       "178  2020-06-27     3387\n",
       "179  2020-06-28     2816\n",
       "180  2020-06-29      983\n",
       "181  2020-06-30      677\n",
       "\n",
       "[182 rows x 2 columns]"
      ]
     },
     "execution_count": 91,
     "metadata": {},
     "output_type": "execute_result"
    }
   ],
   "source": [
    "event = pd.read_sql(stmt, con=engine)\n",
    "event.to_csv('../data/interim/event0_qa.csv', index=False)\n",
    "event"
   ]
  },
  {
   "cell_type": "code",
   "execution_count": 100,
   "metadata": {},
   "outputs": [],
   "source": [
    "# plotting function for time series event data\n",
    "def event_count_plot(qa_data_path, event_name, **kwargs):\n",
    "    event_data_path = qa_data_path + event_name + '.csv'\n",
    "    qa_data_df = pd.read_csv(event_data_path)\n",
    "    plt.figure(figsize=(16, 9))\n",
    "    g = sns.lineplot(x='event_date', y='n_event', data=qa_data_df,\n",
    "                 marker='', color='black', linewidth=2)\n",
    "    g.set(ylim=[0, ceil(1.1*qa_data_df['n_event'].dropna().max())])\n",
    "    plt.title('{} count'.format(event_name))\n",
    "    plt.gca().figure.autofmt_xdate()\n",
    "    plt.xticks(list(filter(lambda x:x.endswith(('01')),\n",
    "                          qa_data_df['event_date'].tolist())))\n",
    "    plt.tight_layout()\n",
    "    plt.show()\n",
    "    plt.savefig(event_data_path.replace('.csv', '.png'))\n",
    "    plt.close()"
   ]
  },
  {
   "cell_type": "code",
   "execution_count": 99,
   "metadata": {},
   "outputs": [
    {
     "data": {
      "image/png": "[encoded data removed]",
      "text/plain": [
       "<Figure size 1152x648 with 1 Axes>"
      ]
     },
     "metadata": {},
     "output_type": "display_data"
    }
   ],
   "source": [
    "event_count_plot('../data/interim/', 'event0_qa')"
   ]
  },
  {
   "cell_type": "markdown",
   "metadata": {},
   "source": [
    "### Events per account"
   ]
  },
  {
   "cell_type": "markdown",
   "metadata": {},
   "source": [
    "Now we will calculate how many events exist per account. This is similar to checking the number of accounts with metrics, but now we are doing it at the event level. We should be doing this for all event types individually and as a whole. In the context of credit cards this would be counting all transaction types and counting for each account. The SQL logic needed to implement this is as follows:\n",
    "\n",
    "1. Set date range\n",
    "2. Count all active accounts in date range\n",
    "3. Count total number of events in date range\n",
    "4. Divide total events by:\n",
    "    1. number of accounts\n",
    "    2. number of months measured"
   ]
  },
  {
   "cell_type": "code",
   "execution_count": 107,
   "metadata": {},
   "outputs": [],
   "source": [
    "stmt = '''\n",
    "-- CTE for date range\n",
    "WITH date_range AS (\n",
    "    SELECT '2020-01-01'::timestamp AS start_date,\n",
    "        '2020-12-31'::timestamp AS end_date\n",
    "),\n",
    "-- CTE for number of accounts\n",
    "account_count AS (\n",
    "    SELECT COUNT(DISTINCT account_id) AS n_account\n",
    "    FROM churnsim.subscription s INNER JOIN date_range d ON\n",
    "    s.start_date <= d.end_date\n",
    "    AND (s.end_date >= d.start_date OR s.end_date IS NULL)\n",
    ")\n",
    "SELECT event_type_id,\n",
    "    COUNT(*) AS n_event,\n",
    "    n_account AS n_account,\n",
    "    -- events per account\n",
    "    COUNT(*)::float/n_account::float\n",
    "        AS events_per_account,\n",
    "    -- count of four-week months\n",
    "    EXTRACT(days FROM end_date-start_date)::float/28.0\n",
    "        AS n_months,\n",
    "        -- events per account per month\n",
    "        (COUNT(*)::float/n_account::float)/(EXTRACT(days FROM end_date-start_date)::float/28.0)\n",
    "            AS events_per_account_per_month\n",
    "FROM churnsim.event e CROSS JOIN account_count\n",
    "INNER JOIN date_range ON\n",
    "    event_time >= start_date\n",
    "    AND event_time <= end_date\n",
    "GROUP BY e.event_type_id, n_account, end_date, start_date\n",
    "ORDER BY events_per_account_per_month DESC;\n",
    "'''"
   ]
  },
  {
   "cell_type": "code",
   "execution_count": 108,
   "metadata": {},
   "outputs": [
    {
     "data": {
      "text/html": [
       "<div>\n",
       "<style scoped>\n",
       "    .dataframe tbody tr th:only-of-type {\n",
       "        vertical-align: middle;\n",
       "    }\n",
       "\n",
       "    .dataframe tbody tr th {\n",
       "        vertical-align: top;\n",
       "    }\n",
       "\n",
       "    .dataframe thead th {\n",
       "        text-align: right;\n",
       "    }\n",
       "</style>\n",
       "<table border=\"1\" class=\"dataframe\">\n",
       "  <thead>\n",
       "    <tr style=\"text-align: right;\">\n",
       "      <th></th>\n",
       "      <th>event_type_id</th>\n",
       "      <th>n_event</th>\n",
       "      <th>n_account</th>\n",
       "      <th>events_per_account</th>\n",
       "      <th>n_months</th>\n",
       "      <th>events_per_account_per_month</th>\n",
       "    </tr>\n",
       "  </thead>\n",
       "  <tbody>\n",
       "    <tr>\n",
       "      <th>0</th>\n",
       "      <td>2</td>\n",
       "      <td>6147279</td>\n",
       "      <td>14641</td>\n",
       "      <td>419.867427</td>\n",
       "      <td>13.035714</td>\n",
       "      <td>32.209008</td>\n",
       "    </tr>\n",
       "    <tr>\n",
       "      <th>1</th>\n",
       "      <td>6</td>\n",
       "      <td>3788020</td>\n",
       "      <td>14641</td>\n",
       "      <td>258.726863</td>\n",
       "      <td>13.035714</td>\n",
       "      <td>19.847540</td>\n",
       "    </tr>\n",
       "    <tr>\n",
       "      <th>2</th>\n",
       "      <td>0</td>\n",
       "      <td>2676530</td>\n",
       "      <td>14641</td>\n",
       "      <td>182.810600</td>\n",
       "      <td>13.035714</td>\n",
       "      <td>14.023827</td>\n",
       "    </tr>\n",
       "    <tr>\n",
       "      <th>3</th>\n",
       "      <td>3</td>\n",
       "      <td>2589660</td>\n",
       "      <td>14641</td>\n",
       "      <td>176.877262</td>\n",
       "      <td>13.035714</td>\n",
       "      <td>13.568667</td>\n",
       "    </tr>\n",
       "    <tr>\n",
       "      <th>4</th>\n",
       "      <td>7</td>\n",
       "      <td>1438987</td>\n",
       "      <td>14641</td>\n",
       "      <td>98.284748</td>\n",
       "      <td>13.035714</td>\n",
       "      <td>7.539652</td>\n",
       "    </tr>\n",
       "    <tr>\n",
       "      <th>5</th>\n",
       "      <td>4</td>\n",
       "      <td>972607</td>\n",
       "      <td>14641</td>\n",
       "      <td>66.430367</td>\n",
       "      <td>13.035714</td>\n",
       "      <td>5.096028</td>\n",
       "    </tr>\n",
       "    <tr>\n",
       "      <th>6</th>\n",
       "      <td>1</td>\n",
       "      <td>428467</td>\n",
       "      <td>14641</td>\n",
       "      <td>29.264873</td>\n",
       "      <td>13.035714</td>\n",
       "      <td>2.244977</td>\n",
       "    </tr>\n",
       "    <tr>\n",
       "      <th>7</th>\n",
       "      <td>5</td>\n",
       "      <td>18614</td>\n",
       "      <td>14641</td>\n",
       "      <td>1.271361</td>\n",
       "      <td>13.035714</td>\n",
       "      <td>0.097529</td>\n",
       "    </tr>\n",
       "  </tbody>\n",
       "</table>\n",
       "</div>"
      ],
      "text/plain": [
       "   event_type_id  n_event  n_account  events_per_account   n_months  \\\n",
       "0              2  6147279      14641          419.867427  13.035714   \n",
       "1              6  3788020      14641          258.726863  13.035714   \n",
       "2              0  2676530      14641          182.810600  13.035714   \n",
       "3              3  2589660      14641          176.877262  13.035714   \n",
       "4              7  1438987      14641           98.284748  13.035714   \n",
       "5              4   972607      14641           66.430367  13.035714   \n",
       "6              1   428467      14641           29.264873  13.035714   \n",
       "7              5    18614      14641            1.271361  13.035714   \n",
       "\n",
       "   events_per_account_per_month  \n",
       "0                     32.209008  \n",
       "1                     19.847540  \n",
       "2                     14.023827  \n",
       "3                     13.568667  \n",
       "4                      7.539652  \n",
       "5                      5.096028  \n",
       "6                      2.244977  \n",
       "7                      0.097529  "
      ]
     },
     "execution_count": 108,
     "metadata": {},
     "output_type": "execute_result"
    }
   ],
   "source": [
    "pd.read_sql(stmt, con=engine)"
   ]
  },
  {
   "cell_type": "markdown",
   "metadata": {},
   "source": [
    "This QA strategy is meant to help us identify events that don't occur as often as others. Whether a low number of events per account per month is a bad thing depends on the business context. For example, we would not expect a credit card holder to make balance payments every single day, whereas we might expect them to make merch transactions several times throughout the week. We sort the events by their frequency to show the order of their expected counts. "
   ]
  },
  {
   "cell_type": "markdown",
   "metadata": {},
   "source": [
    "## Measurement Period"
   ]
  },
  {
   "cell_type": "markdown",
   "metadata": {},
   "source": [
    "If an event is rare, then we will want to change the measurement period when calculating metrics. Events that occur less often should be measured over longer periods of time. We want to find a balance between the metric's *sensitivity* to rare events and the metric's *responsiveness* to changes in time. A metric with longer time periods tends to be less responsive and more sensitive to accounts with loew event levels. A good rule of thumb is to chose a time period that's at least twice as long as the average time it takes for an account to have the event. This period should never be less than a week and no more than one year. We will want to continue with the previous strategy of choosing fixed number weekly intervals. Here is a table summarizing this rule.\n",
    "\n",
    "| Events per account per month | Months for one event | Minimum measurement window |\n",
    "| ----------- | ----------- | ----------- |\n",
    "| >8 | <0.1 | 1 week |\n",
    "| 8 | 0.125 | 1 week |\n",
    "| 4 | 0.25 | 2 weeks |\n",
    "| 2 | 0.5 | 1 month |\n",
    "| 1 | 1 | 2 months |\n",
    "| 0.5 | 2 | 4 months |\n",
    "| 0.333 | 3 | 6 months |\n",
    "| 0.25 | 4 | 8 months |\n",
    "| 0.1666 | 5 | 12 months |\n",
    "| <0.1666 | 6 | 12 months |  \n",
    "\n",
    "When considering measurement windows for credit cards, keep in mind that metrics should be similar in scale to 1 month because billing cycles occur every month. If the metric is too rare to capture in monthly windows, then we could expand the time window, though this might not reflect the customer experience with their credit card accounts. The main reason behind choosing an appropriate measurement period is to understand how we can compare different events and use this reasoning to analyze churn. We will see how to generate metrics on different time windows and compare them in a subsequent notebook."
   ]
  },
  {
   "cell_type": "markdown",
   "metadata": {},
   "source": [
    "## Account Tenure"
   ]
  },
  {
   "cell_type": "markdown",
   "metadata": {},
   "source": [
    "We have almost exclusively used event data up to this point, and now we will also leverage billing cycle data. The length of time an account has been active is defined as *account tenure*, which is a fundamental piece of analyzing churn."
   ]
  },
  {
   "cell_type": "markdown",
   "metadata": {},
   "source": [
    "### Definition"
   ]
  },
  {
   "cell_type": "markdown",
   "metadata": {},
   "source": [
    "Account tenure is essentially the amount of time between an account's start date and the time the measurement is made. That does not necessarily mean that the start date is the same as when the account was opened, because a customer can have gaps of inactivity throughout their lifespan which we would consider the end of a tenure. That is, an old account who churned is not considered an account with long tenure because they were not active since open. We want, however, to allow small gaps of inactivity to exist before declaring a churn. It depends on how long the account was inactive and whether that length exceeds some specified threshold. The value of this threshold depends on the business context, though we can stick with using 1 month as that runs parallel to credit card billing cycles. In order words, customers that have not used their credit cards for up to one month are not considered inactive.\n",
    "\n",
    "> *Account tenure* - the amount of time that a customer has remained engaged to the product without any large gaps of inactivity"
   ]
  },
  {
   "cell_type": "markdown",
   "metadata": {},
   "source": [
    "### SQL account tenure"
   ]
  },
  {
   "cell_type": "markdown",
   "metadata": {},
   "source": [
    "Using recursive CTEs we can describe the SQL logic needed to calculate account tenure.\n",
    "\n",
    "1. Set date range\n",
    "2. Recursively find earliest start dates for each account\n",
    "3. Calculate days since earliest start date"
   ]
  },
  {
   "cell_type": "code",
   "execution_count": 109,
   "metadata": {},
   "outputs": [],
   "source": [
    "stmt = '''\n",
    "-- recursive CTE with date range\n",
    "WITH RECURSIVE date_range AS (\n",
    "    SELECT '2020-06-01'::date AS calc_date\n",
    "),\n",
    "-- start dates for each account\n",
    "earlier_starts AS (\n",
    "    SELECT account_id, MIN(start_date) AS start_date\n",
    "    FROM churnsim.subscription INNER JOIN date_range\n",
    "        ON start_date <= calc_date\n",
    "        AND (end_date > calc_date OR end_date IS NULL)\n",
    "    GROUP BY account_id\n",
    "    -- add results without duplicating\n",
    "    UNION\n",
    "    -- new accounts and start dates\n",
    "    SELECT s.account_id, s.start_date\n",
    "    FROM churnsim.subscription s INNER JOIN earlier_starts e\n",
    "        ON s.account_id=e.account_id\n",
    "        AND s.start_date < e.start_date\n",
    "        -- end date must be within short gap length\n",
    "        AND s.end_date >= (e.start_date-31)\n",
    ")\n",
    "SELECT account_id, MIN(start_date) AS earliest_start,\n",
    "    -- select earliest start date for each account\n",
    "    calc_date-MIN(start_date)\n",
    "        AS account_tenure_days\n",
    "-- duplicate calc_date on every row\n",
    "FROM earlier_starts CROSS JOIN date_range\n",
    "GROUP BY account_id, calc_date\n",
    "ORDER BY account_id;\n",
    "'''"
   ]
  },
  {
   "cell_type": "code",
   "execution_count": 110,
   "metadata": {},
   "outputs": [
    {
     "data": {
      "text/html": [
       "<div>\n",
       "<style scoped>\n",
       "    .dataframe tbody tr th:only-of-type {\n",
       "        vertical-align: middle;\n",
       "    }\n",
       "\n",
       "    .dataframe tbody tr th {\n",
       "        vertical-align: top;\n",
       "    }\n",
       "\n",
       "    .dataframe thead th {\n",
       "        text-align: right;\n",
       "    }\n",
       "</style>\n",
       "<table border=\"1\" class=\"dataframe\">\n",
       "  <thead>\n",
       "    <tr style=\"text-align: right;\">\n",
       "      <th></th>\n",
       "      <th>account_id</th>\n",
       "      <th>earliest_start</th>\n",
       "      <th>account_tenure_days</th>\n",
       "    </tr>\n",
       "  </thead>\n",
       "  <tbody>\n",
       "    <tr>\n",
       "      <th>0</th>\n",
       "      <td>1</td>\n",
       "      <td>2020-01-29</td>\n",
       "      <td>124</td>\n",
       "    </tr>\n",
       "    <tr>\n",
       "      <th>1</th>\n",
       "      <td>2</td>\n",
       "      <td>2020-01-06</td>\n",
       "      <td>147</td>\n",
       "    </tr>\n",
       "    <tr>\n",
       "      <th>2</th>\n",
       "      <td>3</td>\n",
       "      <td>2020-01-18</td>\n",
       "      <td>135</td>\n",
       "    </tr>\n",
       "    <tr>\n",
       "      <th>3</th>\n",
       "      <td>5</td>\n",
       "      <td>2020-01-19</td>\n",
       "      <td>134</td>\n",
       "    </tr>\n",
       "    <tr>\n",
       "      <th>4</th>\n",
       "      <td>6</td>\n",
       "      <td>2020-01-31</td>\n",
       "      <td>122</td>\n",
       "    </tr>\n",
       "    <tr>\n",
       "      <th>...</th>\n",
       "      <td>...</td>\n",
       "      <td>...</td>\n",
       "      <td>...</td>\n",
       "    </tr>\n",
       "    <tr>\n",
       "      <th>12280</th>\n",
       "      <td>14637</td>\n",
       "      <td>2020-05-27</td>\n",
       "      <td>5</td>\n",
       "    </tr>\n",
       "    <tr>\n",
       "      <th>12281</th>\n",
       "      <td>14638</td>\n",
       "      <td>2020-05-07</td>\n",
       "      <td>25</td>\n",
       "    </tr>\n",
       "    <tr>\n",
       "      <th>12282</th>\n",
       "      <td>14639</td>\n",
       "      <td>2020-05-27</td>\n",
       "      <td>5</td>\n",
       "    </tr>\n",
       "    <tr>\n",
       "      <th>12283</th>\n",
       "      <td>14640</td>\n",
       "      <td>2020-05-28</td>\n",
       "      <td>4</td>\n",
       "    </tr>\n",
       "    <tr>\n",
       "      <th>12284</th>\n",
       "      <td>14641</td>\n",
       "      <td>2020-05-28</td>\n",
       "      <td>4</td>\n",
       "    </tr>\n",
       "  </tbody>\n",
       "</table>\n",
       "<p>12285 rows × 3 columns</p>\n",
       "</div>"
      ],
      "text/plain": [
       "       account_id earliest_start  account_tenure_days\n",
       "0               1     2020-01-29                  124\n",
       "1               2     2020-01-06                  147\n",
       "2               3     2020-01-18                  135\n",
       "3               5     2020-01-19                  134\n",
       "4               6     2020-01-31                  122\n",
       "...           ...            ...                  ...\n",
       "12280       14637     2020-05-27                    5\n",
       "12281       14638     2020-05-07                   25\n",
       "12282       14639     2020-05-27                    5\n",
       "12283       14640     2020-05-28                    4\n",
       "12284       14641     2020-05-28                    4\n",
       "\n",
       "[12285 rows x 3 columns]"
      ]
     },
     "execution_count": 110,
     "metadata": {},
     "output_type": "execute_result"
    }
   ],
   "source": [
    "pd.read_sql(stmt, con=engine)"
   ]
  },
  {
   "cell_type": "markdown",
   "metadata": {},
   "source": [
    "## MRR and Other Metrics"
   ]
  },
  {
   "cell_type": "markdown",
   "metadata": {},
   "source": [
    "We can generate metrics that are not just dependent on the dates of billing cycles, but also on revenue streams during those cycles. We will describe an approach that is generalized to multi-product business models."
   ]
  },
  {
   "cell_type": "markdown",
   "metadata": {},
   "source": [
    "### MRR"
   ]
  },
  {
   "cell_type": "markdown",
   "metadata": {},
   "source": [
    "Total monthly recurring revenue (MRR) is measured at different points in time, aligned with billing cycles, which means it behaves in a similar way to other metrics we have already calculated. Here is the SQL logic outline to calculate MRR as a behavioral metric:\n",
    "\n",
    "1. Set measurement date sequence\n",
    "2. Join billing cycle table with dates and find all active products on each date\n",
    "3. Sum total MRR for all products on each date"
   ]
  },
  {
   "cell_type": "code",
   "execution_count": 113,
   "metadata": {},
   "outputs": [],
   "source": [
    "stmt = '''\n",
    "-- CTE with measurement dates\n",
    "WITH date_vals AS(\n",
    "    SELECT i::timestamp AS metric_date\n",
    "    FROM generate_series('2020-04-02', '2020-04-09', '7 day'::interval) i\n",
    ")\n",
    "-- sum total mrr\n",
    "SELECT account_id, metric_date, SUM(mrr) AS total_mrr\n",
    "FROM churnsim.subscription INNER JOIN date_vals\n",
    "    ON start_Date <= metric_date\n",
    "    AND (end_date > metric_date OR end_date IS NULL)\n",
    "GROUP BY account_id, metric_date\n",
    "ORDER BY account_id, metric_date\n",
    "'''"
   ]
  },
  {
   "cell_type": "code",
   "execution_count": 114,
   "metadata": {},
   "outputs": [
    {
     "data": {
      "text/html": [
       "<div>\n",
       "<style scoped>\n",
       "    .dataframe tbody tr th:only-of-type {\n",
       "        vertical-align: middle;\n",
       "    }\n",
       "\n",
       "    .dataframe tbody tr th {\n",
       "        vertical-align: top;\n",
       "    }\n",
       "\n",
       "    .dataframe thead th {\n",
       "        text-align: right;\n",
       "    }\n",
       "</style>\n",
       "<table border=\"1\" class=\"dataframe\">\n",
       "  <thead>\n",
       "    <tr style=\"text-align: right;\">\n",
       "      <th></th>\n",
       "      <th>account_id</th>\n",
       "      <th>metric_date</th>\n",
       "      <th>total_mrr</th>\n",
       "    </tr>\n",
       "  </thead>\n",
       "  <tbody>\n",
       "    <tr>\n",
       "      <th>0</th>\n",
       "      <td>1</td>\n",
       "      <td>2020-04-02</td>\n",
       "      <td>9.99</td>\n",
       "    </tr>\n",
       "    <tr>\n",
       "      <th>1</th>\n",
       "      <td>1</td>\n",
       "      <td>2020-04-09</td>\n",
       "      <td>9.99</td>\n",
       "    </tr>\n",
       "    <tr>\n",
       "      <th>2</th>\n",
       "      <td>2</td>\n",
       "      <td>2020-04-02</td>\n",
       "      <td>9.99</td>\n",
       "    </tr>\n",
       "    <tr>\n",
       "      <th>3</th>\n",
       "      <td>2</td>\n",
       "      <td>2020-04-09</td>\n",
       "      <td>9.99</td>\n",
       "    </tr>\n",
       "    <tr>\n",
       "      <th>4</th>\n",
       "      <td>3</td>\n",
       "      <td>2020-04-02</td>\n",
       "      <td>9.99</td>\n",
       "    </tr>\n",
       "    <tr>\n",
       "      <th>...</th>\n",
       "      <td>...</td>\n",
       "      <td>...</td>\n",
       "      <td>...</td>\n",
       "    </tr>\n",
       "    <tr>\n",
       "      <th>21797</th>\n",
       "      <td>13301</td>\n",
       "      <td>2020-04-09</td>\n",
       "      <td>9.99</td>\n",
       "    </tr>\n",
       "    <tr>\n",
       "      <th>21798</th>\n",
       "      <td>13302</td>\n",
       "      <td>2020-04-02</td>\n",
       "      <td>9.99</td>\n",
       "    </tr>\n",
       "    <tr>\n",
       "      <th>21799</th>\n",
       "      <td>13302</td>\n",
       "      <td>2020-04-09</td>\n",
       "      <td>9.99</td>\n",
       "    </tr>\n",
       "    <tr>\n",
       "      <th>21800</th>\n",
       "      <td>13308</td>\n",
       "      <td>2020-04-09</td>\n",
       "      <td>9.99</td>\n",
       "    </tr>\n",
       "    <tr>\n",
       "      <th>21801</th>\n",
       "      <td>13310</td>\n",
       "      <td>2020-04-09</td>\n",
       "      <td>9.99</td>\n",
       "    </tr>\n",
       "  </tbody>\n",
       "</table>\n",
       "<p>21802 rows × 3 columns</p>\n",
       "</div>"
      ],
      "text/plain": [
       "       account_id metric_date  total_mrr\n",
       "0               1  2020-04-02       9.99\n",
       "1               1  2020-04-09       9.99\n",
       "2               2  2020-04-02       9.99\n",
       "3               2  2020-04-09       9.99\n",
       "4               3  2020-04-02       9.99\n",
       "...           ...         ...        ...\n",
       "21797       13301  2020-04-09       9.99\n",
       "21798       13302  2020-04-02       9.99\n",
       "21799       13302  2020-04-09       9.99\n",
       "21800       13308  2020-04-09       9.99\n",
       "21801       13310  2020-04-09       9.99\n",
       "\n",
       "[21802 rows x 3 columns]"
      ]
     },
     "execution_count": 114,
     "metadata": {},
     "output_type": "execute_result"
    }
   ],
   "source": [
    "pd.read_sql(stmt, con=engine)"
   ]
  },
  {
   "cell_type": "markdown",
   "metadata": {},
   "source": [
    "### Units, quantity, and billing cycles"
   ]
  },
  {
   "cell_type": "markdown",
   "metadata": {},
   "source": [
    "Different products have different characteristics that distinguish them from each other.\n",
    "\n",
    "> *Unit* - entitlement offered by ownership of the product  \n",
    "> *Quantity* - how many units customer is entitled to\n",
    "\n",
    "We can think of credit card units as the capacity to make transactions and pay them off at a later date. We can think of quantity as limits on the number of transactions made on the credit card or the credit limit itself, which is a limit on the total dollar amount spent by customers. We want to include these properties in our analysis by adding a unit and quantity column to our schema. The unit column describes the entitlement (e.g. dollar transacations) and the quantity column shows the corresponding amount (e.g. amount spent).\n",
    "\n",
    "> *Charge segment* - recurring contract for a certain quantity of unit (e.g. transaction fee)"
   ]
  },
  {
   "cell_type": "markdown",
   "metadata": {},
   "source": [
    "### Units as metrics"
   ]
  },
  {
   "cell_type": "markdown",
   "metadata": {},
   "source": [
    "We will now outline the SQL logic needed to calculate the quantity a customer is entitled to for each unit. \n",
    "\n",
    "1. Set date sequence\n",
    "2. Join billing cycle data to find all active accounts at each date\n",
    "3. Limit accounts to those with correct units\n",
    "4. Sum all matching accounts on each date"
   ]
  },
  {
   "cell_type": "code",
   "execution_count": 115,
   "metadata": {},
   "outputs": [],
   "source": [
    "stmt = '''\n",
    "-- CTE with measurement dates\n",
    "WITH date_vals AS(\n",
    "    SELECT i::timestamp AS metric_date\n",
    "    FROM generate_series('2020-04-02', '2020-04-09', '7 day'::interval) i\n",
    ")\n",
    "-- sum total mrr\n",
    "SELECT account_id, metric_date, SUM(quantity) AS total_quantity\n",
    "FROM churnsim.subscription INNER JOIN date_vals\n",
    "    ON start_Date <= metric_date\n",
    "    AND (end_date > metric_date OR end_date IS NULL)\n",
    "WHERE units = ''\n",
    "GROUP BY account_id, metric_date\n",
    "ORDER BY account_id, metric_date\n",
    "'''"
   ]
  },
  {
   "cell_type": "markdown",
   "metadata": {},
   "source": [
    "### Billing periods as metrics"
   ]
  },
  {
   "cell_type": "markdown",
   "metadata": {},
   "source": [
    "> *Billing period* - how often the customer is billed (e.g. monthly billing is a billing period of 1)  \n",
    "\n",
    "We can aggregate accounts that have billing cycles at the same intervals to generate a metric based on billing periods. Nonetheless, having multiple products with different billing cycles is uncommon. For example, if one account holds two credit cards, they will both be billed on a monthly basis. Either way, we will want to aggregate on a specific date for each account even if that account own more than one product. If a customer holds another product that has a different billin structure, they will still behave based on their smallest interval. That is, if a person holds a checking account with an annual fee in additional to a credit card with a monthly billing cycle structure, they will behave like someone who gets billed each month, so we calculate the minimum in the SQL statement."
   ]
  },
  {
   "cell_type": "code",
   "execution_count": 116,
   "metadata": {},
   "outputs": [],
   "source": [
    "stmt = '''\n",
    "-- CTE with measurement dates\n",
    "WITH date_vals AS(\n",
    "    SELECT i::timestamp AS metric_date\n",
    "    FROM generate_series('2020-04-02', '2020-04-09', '7 day'::interval) i\n",
    ")\n",
    "-- sum total mrr\n",
    "SELECT account_id, metric_date, MIN(bill_period_months) AS billing_period\n",
    "FROM churnsim.subscription INNER JOIN date_vals\n",
    "    ON start_Date <= metric_date\n",
    "    AND (end_date > metric_date OR end_date IS NULL)\n",
    "GROUP BY account_id, metric_date\n",
    "ORDER BY account_id, metric_date\n",
    "'''"
   ]
  }
 ],
 "metadata": {
  "kernelspec": {
   "display_name": "churnenv",
   "language": "python",
   "name": "churnenv"
  },
  "language_info": {
   "codemirror_mode": {
    "name": "ipython",
    "version": 3
   },
   "file_extension": ".py",
   "mimetype": "text/x-python",
   "name": "python",
   "nbconvert_exporter": "python",
   "pygments_lexer": "ipython3",
   "version": "3.8.5"
  }
 },
 "nbformat": 4,
 "nbformat_minor": 4
}
