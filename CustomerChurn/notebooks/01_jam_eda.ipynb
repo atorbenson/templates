{
 "cells": [
  {
   "cell_type": "markdown",
   "metadata": {},
   "source": [
    "# Measuring Churn"
   ]
  },
  {
   "cell_type": "markdown",
   "metadata": {},
   "source": [
    "### Data Import and Packages"
   ]
  },
  {
   "cell_type": "code",
   "execution_count": 6,
   "metadata": {},
   "outputs": [],
   "source": [
    "import numpy as np\n",
    "import pandas as pd\n",
    "import matplotlib.pyplot as plt\n",
    "import seaborn as sns\n",
    "%matplotlib inline\n",
    "sns.set()"
   ]
  },
  {
   "cell_type": "code",
   "execution_count": 5,
   "metadata": {},
   "outputs": [
    {
     "name": "stdout",
     "output_type": "stream",
     "text": [
      "<class 'pandas.core.frame.DataFrame'>\n",
      "RangeIndex: 10127 entries, 0 to 10126\n",
      "Data columns (total 21 columns):\n",
      " #   Column                    Non-Null Count  Dtype  \n",
      "---  ------                    --------------  -----  \n",
      " 0   CLIENTNUM                 10127 non-null  int64  \n",
      " 1   Attrition_Flag            10127 non-null  object \n",
      " 2   Customer_Age              10127 non-null  int64  \n",
      " 3   Gender                    10127 non-null  object \n",
      " 4   Dependent_count           10127 non-null  int64  \n",
      " 5   Education_Level           10127 non-null  object \n",
      " 6   Marital_Status            10127 non-null  object \n",
      " 7   Income_Category           10127 non-null  object \n",
      " 8   Card_Category             10127 non-null  object \n",
      " 9   Months_on_book            10127 non-null  int64  \n",
      " 10  Total_Relationship_Count  10127 non-null  int64  \n",
      " 11  Months_Inactive_12_mon    10127 non-null  int64  \n",
      " 12  Contacts_Count_12_mon     10127 non-null  int64  \n",
      " 13  Credit_Limit              10127 non-null  float64\n",
      " 14  Total_Revolving_Bal       10127 non-null  int64  \n",
      " 15  Avg_Open_To_Buy           10127 non-null  float64\n",
      " 16  Total_Amt_Chng_Q4_Q1      10127 non-null  float64\n",
      " 17  Total_Trans_Amt           10127 non-null  int64  \n",
      " 18  Total_Trans_Ct            10127 non-null  int64  \n",
      " 19  Total_Ct_Chng_Q4_Q1       10127 non-null  float64\n",
      " 20  Avg_Utilization_Ratio     10127 non-null  float64\n",
      "dtypes: float64(5), int64(10), object(6)\n",
      "memory usage: 1.6+ MB\n"
     ]
    }
   ],
   "source": [
    "# importing raw csv file as pandas dataframe\n",
    "df = pd.read_csv('../data/raw/BankChurners.csv')\n",
    "df.info()"
   ]
  },
  {
   "cell_type": "markdown",
   "metadata": {},
   "source": [
    "## Churn Rate"
   ]
  },
  {
   "cell_type": "markdown",
   "metadata": {},
   "source": [
    "### Calculating churn rate"
   ]
  },
  {
   "cell_type": "markdown",
   "metadata": {},
   "source": [
    "Customers who no longer use the service are considered churners. At a point in time prior to the time at which measurements were taken in the data, a number of customers equal to the sumber of rows $10127$ signed up for the service. Once the data was generated, a portion of those customers were retained, and another portion churned. The *churn rate* is thus the proportion of total customers who have left the service:  \n",
    "\n",
    "$$ChurnRate=\\frac{\\#ChurnedCustomers}{\\#StartingCustomers}$$\n",
    "\n",
    "The data tells us that some customers have churned, so we can look at these proportions to calculate the churn rate."
   ]
  },
  {
   "cell_type": "code",
   "execution_count": 25,
   "metadata": {},
   "outputs": [
    {
     "data": {
      "image/png": "[encoded data removed]",
      "text/plain": [
       "<Figure size 360x360 with 1 Axes>"
      ]
     },
     "metadata": {},
     "output_type": "display_data"
    }
   ],
   "source": [
    "# plotting values of Attrition_Flag column\n",
    "g = sns.catplot(data=df, kind='count', x='Attrition_Flag')\n",
    "g.set_axis_labels('Atrrition Flag')\n",
    "plt.show()"
   ]
  },
  {
   "cell_type": "code",
   "execution_count": 14,
   "metadata": {},
   "outputs": [
    {
     "name": "stdout",
     "output_type": "stream",
     "text": [
      "# Churned Customers = 1627\n",
      "# Starting Customers = 10127\n",
      "Churn Rate = 0.161%\n"
     ]
    }
   ],
   "source": [
    "# number of churned customers\n",
    "CC = df[df['Attrition_Flag'] =='Attrited Customer'].shape[0]\n",
    "print('# Churned Customers = {}'.format(CC))\n",
    "\n",
    "# number of starting (total) customers\n",
    "SC = df.shape[0]\n",
    "print('# Starting Customers = {}'.format(SC))\n",
    "\n",
    "#churn rate\n",
    "CR = CC/SC\n",
    "print('Churn Rate = {}%'.format(round(CR, 3)))"
   ]
  },
  {
   "cell_type": "markdown",
   "metadata": {},
   "source": [
    "Plugging in these numbers to the churn rate formula:  \n",
    "\n",
    "$$ChurnRate=\\frac{1627}{10127}=0.161\\%$$\n",
    "\n",
    "Since the data does not include date variables, we are making an assumption that all accounts included in the data were new users at around the same time. This is necessary for calculating churn, because the churn rate should not include newly acquired accounts. The churn rate is exclusively focused on the set of customers that were acquired at the same time (or at least within a reasonably small time window). We can also calculate the retention rate by looking at the proportion of existing customers over total customers:\n",
    "\n",
    "$$RetentionRate=\\frac{\\#ExistingCustomers}{\\#StartingCustomers}$$"
   ]
  },
  {
   "cell_type": "code",
   "execution_count": 16,
   "metadata": {},
   "outputs": [
    {
     "name": "stdout",
     "output_type": "stream",
     "text": [
      "# Existing Customers = 8500\n",
      "# Starting Customers = 10127\n",
      "Retention Rate = 0.839%\n"
     ]
    }
   ],
   "source": [
    "# number of existing customers\n",
    "CC = df[df['Attrition_Flag'] =='Existing Customer'].shape[0]\n",
    "print('# Existing Customers = {}'.format(CC))\n",
    "print('# Starting Customers = {}'.format(SC))\n",
    "\n",
    "#churn rate\n",
    "RR = CC/SC\n",
    "print('Retention Rate = {}%'.format(round(RR, 3)))"
   ]
  },
  {
   "cell_type": "markdown",
   "metadata": {},
   "source": [
    "### Relationship between churn and retention"
   ]
  },
  {
   "cell_type": "markdown",
   "metadata": {},
   "source": [
    "Plugging into the formula:\n",
    "$$RetentionRate=\\frac{8500}{10127}=0.839\\%$$\n",
    "\n",
    "Since customers fall either under `Existing Customer` or `Attrited Customer`, it makes sense that the retention rate is the opposite of the churn rate. Let's explore this relationship.  \n",
    "The number of starting customers is composed by both customers who churn and customers who are retained:\n",
    "\n",
    "$$\\#StartingCustomers = \\#ChurnedCustomers + \\#ExistingCustomers$$\n",
    "\n",
    "We'll use shorter abbreviations for these variables from now on. The three terms in the equation are $Start$, $Churn$, and $Retention$ respectively. We can divide both sides of the equation by $\\#StartingCustomers$ to get $1$ on the left-hand side:\n",
    "\n",
    "$$\\frac{Start}{Start}=\\frac{Churn}{Start} + \\frac{Retention}{Start}$$\n",
    "\n",
    "The fractions on the right-hand side of the equation were already defined as the churn rate and the retention rate, which leads to the following identity:\n",
    "\n",
    "$$100\\%=ChurnRate+RetentionRate$$\n",
    "\n",
    "Since $ChurnRate$ and $RetentionRate$ add up to $100\\%$, calculating one will lead to the other and it doesn't make a difference which one is used for analysis. We will stick with churn rate since the purpose of this analysis is to reduce churn."
   ]
  },
  {
   "cell_type": "markdown",
   "metadata": {},
   "source": [
    "## Churn Data"
   ]
  },
  {
   "cell_type": "code",
   "execution_count": null,
   "metadata": {},
   "outputs": [],
   "source": []
  }
 ],
 "metadata": {
  "kernelspec": {
   "display_name": "Python 3",
   "language": "python",
   "name": "python3"
  },
  "language_info": {
   "codemirror_mode": {
    "name": "ipython",
    "version": 3
   },
   "file_extension": ".py",
   "mimetype": "text/x-python",
   "name": "python",
   "nbconvert_exporter": "python",
   "pygments_lexer": "ipython3",
   "version": "3.8.5"
  }
 },
 "nbformat": 4,
 "nbformat_minor": 4
}
